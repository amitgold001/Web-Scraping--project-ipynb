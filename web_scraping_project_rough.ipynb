{
  "cells": [
    {
      "cell_type": "markdown",
      "id": "sublime-temple",
      "metadata": {
        "id": "sublime-temple"
      },
      "source": [
        "# Scraping Top Repositories for GitHub Topics"
      ]
    },
    {
      "cell_type": "code",
      "execution_count": 1,
      "id": "flying-coach",
      "metadata": {
        "id": "flying-coach",
        "outputId": "d6f03c9d-5231-422b-fddf-b300f090d5e8",
        "colab": {
          "base_uri": "https://localhost:8080/"
        }
      },
      "outputs": [
        {
          "output_type": "stream",
          "name": "stdout",
          "text": [
            "Requirement already satisfied: requests in /usr/local/lib/python3.10/dist-packages (2.32.3)\n",
            "Requirement already satisfied: charset-normalizer<4,>=2 in /usr/local/lib/python3.10/dist-packages (from requests) (3.3.2)\n",
            "Requirement already satisfied: idna<4,>=2.5 in /usr/local/lib/python3.10/dist-packages (from requests) (3.7)\n",
            "Requirement already satisfied: urllib3<3,>=1.21.1 in /usr/local/lib/python3.10/dist-packages (from requests) (2.0.7)\n",
            "Requirement already satisfied: certifi>=2017.4.17 in /usr/local/lib/python3.10/dist-packages (from requests) (2024.7.4)\n"
          ]
        }
      ],
      "source": [
        "!pip install requests --upgrade"
      ]
    },
    {
      "cell_type": "code",
      "execution_count": 2,
      "id": "korean-powell",
      "metadata": {
        "id": "korean-powell"
      },
      "outputs": [],
      "source": [
        "import requests"
      ]
    },
    {
      "cell_type": "code",
      "execution_count": 4,
      "id": "italian-governor",
      "metadata": {
        "id": "italian-governor"
      },
      "outputs": [],
      "source": [
        "r = requests.get('https://github.com/topics')"
      ]
    },
    {
      "cell_type": "code",
      "execution_count": 5,
      "id": "becoming-financing",
      "metadata": {
        "id": "becoming-financing",
        "outputId": "b11a55fa-3f3f-4966-e87c-8cac38609ff8",
        "colab": {
          "base_uri": "https://localhost:8080/"
        }
      },
      "outputs": [
        {
          "output_type": "execute_result",
          "data": {
            "text/plain": [
              "200"
            ]
          },
          "metadata": {},
          "execution_count": 5
        }
      ],
      "source": [
        "r.status_code"
      ]
    },
    {
      "cell_type": "code",
      "execution_count": 6,
      "id": "patent-biography",
      "metadata": {
        "id": "patent-biography",
        "outputId": "faaa578a-0617-437e-fa71-b98bc636f85f",
        "colab": {
          "base_uri": "https://localhost:8080/"
        }
      },
      "outputs": [
        {
          "output_type": "execute_result",
          "data": {
            "text/plain": [
              "202429"
            ]
          },
          "metadata": {},
          "execution_count": 6
        }
      ],
      "source": [
        "len(r.text)"
      ]
    },
    {
      "cell_type": "code",
      "execution_count": 7,
      "id": "blessed-absorption",
      "metadata": {
        "id": "blessed-absorption",
        "outputId": "d8d824b9-01b4-415f-9c53-c6c22b1f876d",
        "colab": {
          "base_uri": "https://localhost:8080/",
          "height": 105
        }
      },
      "outputs": [
        {
          "output_type": "execute_result",
          "data": {
            "text/plain": [
              "'\\n\\n<!DOCTYPE html>\\n<html\\n  lang=\"en\"\\n  \\n  data-color-mode=\"auto\" data-light-theme=\"light\" data-dark-theme=\"dark\"\\n  data-a11y-animated-images=\"system\" data-a11y-link-underlines=\"true\"\\n  >\\n\\n\\n\\n  <head>\\n    <meta charset=\"utf-8\">\\n  <link rel=\"dns-prefetch\" href=\"https://github.githubassets.com\">\\n  <link rel=\"dns-prefetch\" href=\"https://avatars.githubusercontent.com\">\\n  <link rel=\"dns-prefetch\" href=\"https://github-cloud.s3.amazonaws.com\">\\n  <link rel=\"dns-prefetch\" href=\"https://user-images.githubusercontent.com/\">\\n  <link rel=\"preconnect\" href=\"https://github.githubassets.com\" crossorigin>\\n  <link rel=\"preconnect\" href=\"https://avatars.githubusercontent.com\">\\n\\n  \\n\\n  <link crossorigin=\"anonymous\" media=\"all\" rel=\"stylesheet\" href=\"https://github.githubassets.com/assets/light-efd2f2257c96.css\" /><link crossorigin=\"anonymous\" media=\"all\" rel=\"stylesheet\" href=\"https://github.githubassets.com/assets/dark-6b1e37da2254.css\" /><link data-color-theme=\"dark_dimmed\" crossorigin=\"anonymous\" media=\"al'"
            ],
            "application/vnd.google.colaboratory.intrinsic+json": {
              "type": "string"
            }
          },
          "metadata": {},
          "execution_count": 7
        }
      ],
      "source": [
        "r.text[:1000]"
      ]
    },
    {
      "cell_type": "code",
      "execution_count": 8,
      "id": "other-associate",
      "metadata": {
        "id": "other-associate"
      },
      "outputs": [],
      "source": [
        "!pip install beautifulsoup4 --upgrade --quiet"
      ]
    },
    {
      "cell_type": "code",
      "execution_count": 9,
      "id": "comparative-justice",
      "metadata": {
        "id": "comparative-justice"
      },
      "outputs": [],
      "source": [
        "from bs4 import BeautifulSoup"
      ]
    },
    {
      "cell_type": "code",
      "execution_count": 10,
      "id": "amended-share",
      "metadata": {
        "id": "amended-share"
      },
      "outputs": [],
      "source": [
        "doc = BeautifulSoup(r.text, 'html.parser')"
      ]
    },
    {
      "cell_type": "code",
      "execution_count": 11,
      "id": "bearing-arrest",
      "metadata": {
        "id": "bearing-arrest"
      },
      "outputs": [],
      "source": [
        "# topic title\n",
        "p_tags = doc.find_all('p', {'class': 'f3 lh-condensed mb-0 mt-1 Link--primary'})"
      ]
    },
    {
      "cell_type": "code",
      "execution_count": 12,
      "id": "pressed-transcription",
      "metadata": {
        "scrolled": false,
        "id": "pressed-transcription",
        "outputId": "17839f80-f752-4ea2-dc0c-e7cd7230adfe",
        "colab": {
          "base_uri": "https://localhost:8080/"
        }
      },
      "outputs": [
        {
          "output_type": "execute_result",
          "data": {
            "text/plain": [
              "[<p class=\"f3 lh-condensed mb-0 mt-1 Link--primary\">3D</p>,\n",
              " <p class=\"f3 lh-condensed mb-0 mt-1 Link--primary\">Ajax</p>,\n",
              " <p class=\"f3 lh-condensed mb-0 mt-1 Link--primary\">Algorithm</p>,\n",
              " <p class=\"f3 lh-condensed mb-0 mt-1 Link--primary\">Amp</p>,\n",
              " <p class=\"f3 lh-condensed mb-0 mt-1 Link--primary\">Android</p>,\n",
              " <p class=\"f3 lh-condensed mb-0 mt-1 Link--primary\">Angular</p>,\n",
              " <p class=\"f3 lh-condensed mb-0 mt-1 Link--primary\">Ansible</p>,\n",
              " <p class=\"f3 lh-condensed mb-0 mt-1 Link--primary\">API</p>,\n",
              " <p class=\"f3 lh-condensed mb-0 mt-1 Link--primary\">Arduino</p>,\n",
              " <p class=\"f3 lh-condensed mb-0 mt-1 Link--primary\">ASP.NET</p>,\n",
              " <p class=\"f3 lh-condensed mb-0 mt-1 Link--primary\">Awesome Lists</p>,\n",
              " <p class=\"f3 lh-condensed mb-0 mt-1 Link--primary\">Amazon Web Services</p>,\n",
              " <p class=\"f3 lh-condensed mb-0 mt-1 Link--primary\">Azure</p>,\n",
              " <p class=\"f3 lh-condensed mb-0 mt-1 Link--primary\">Babel</p>,\n",
              " <p class=\"f3 lh-condensed mb-0 mt-1 Link--primary\">Bash</p>,\n",
              " <p class=\"f3 lh-condensed mb-0 mt-1 Link--primary\">Bitcoin</p>,\n",
              " <p class=\"f3 lh-condensed mb-0 mt-1 Link--primary\">Bootstrap</p>,\n",
              " <p class=\"f3 lh-condensed mb-0 mt-1 Link--primary\">Bot</p>,\n",
              " <p class=\"f3 lh-condensed mb-0 mt-1 Link--primary\">C</p>,\n",
              " <p class=\"f3 lh-condensed mb-0 mt-1 Link--primary\">Chrome</p>,\n",
              " <p class=\"f3 lh-condensed mb-0 mt-1 Link--primary\">Chrome extension</p>,\n",
              " <p class=\"f3 lh-condensed mb-0 mt-1 Link--primary\">Command-line interface</p>,\n",
              " <p class=\"f3 lh-condensed mb-0 mt-1 Link--primary\">Clojure</p>,\n",
              " <p class=\"f3 lh-condensed mb-0 mt-1 Link--primary\">Code quality</p>,\n",
              " <p class=\"f3 lh-condensed mb-0 mt-1 Link--primary\">Code review</p>,\n",
              " <p class=\"f3 lh-condensed mb-0 mt-1 Link--primary\">Compiler</p>,\n",
              " <p class=\"f3 lh-condensed mb-0 mt-1 Link--primary\">Continuous integration</p>,\n",
              " <p class=\"f3 lh-condensed mb-0 mt-1 Link--primary\">C++</p>,\n",
              " <p class=\"f3 lh-condensed mb-0 mt-1 Link--primary\">Cryptocurrency</p>,\n",
              " <p class=\"f3 lh-condensed mb-0 mt-1 Link--primary\">Crystal</p>]"
            ]
          },
          "metadata": {},
          "execution_count": 12
        }
      ],
      "source": [
        "p_tags"
      ]
    },
    {
      "cell_type": "code",
      "execution_count": 13,
      "id": "adopted-hurricane",
      "metadata": {
        "id": "adopted-hurricane",
        "outputId": "b9b990ed-c6c1-41c9-8b95-796c2201f24d",
        "colab": {
          "base_uri": "https://localhost:8080/"
        }
      },
      "outputs": [
        {
          "output_type": "execute_result",
          "data": {
            "text/plain": [
              "<p class=\"f3 lh-condensed mb-0 mt-1 Link--primary\">3D</p>"
            ]
          },
          "metadata": {},
          "execution_count": 13
        }
      ],
      "source": [
        "p_tags[0]"
      ]
    },
    {
      "cell_type": "code",
      "execution_count": 14,
      "id": "affected-outdoors",
      "metadata": {
        "id": "affected-outdoors",
        "outputId": "6ae69f9b-0461-460f-b63e-7383625d50da",
        "colab": {
          "base_uri": "https://localhost:8080/",
          "height": 35
        }
      },
      "outputs": [
        {
          "output_type": "execute_result",
          "data": {
            "text/plain": [
              "'3D'"
            ],
            "application/vnd.google.colaboratory.intrinsic+json": {
              "type": "string"
            }
          },
          "metadata": {},
          "execution_count": 14
        }
      ],
      "source": [
        "p_tags[0].text"
      ]
    },
    {
      "cell_type": "code",
      "execution_count": 15,
      "id": "unavailable-command",
      "metadata": {
        "id": "unavailable-command",
        "outputId": "757e4fc1-83b1-4bf3-a949-59a7d4879c6f",
        "colab": {
          "base_uri": "https://localhost:8080/"
        }
      },
      "outputs": [
        {
          "output_type": "execute_result",
          "data": {
            "text/plain": [
              "['3D',\n",
              " 'Ajax',\n",
              " 'Algorithm',\n",
              " 'Amp',\n",
              " 'Android',\n",
              " 'Angular',\n",
              " 'Ansible',\n",
              " 'API',\n",
              " 'Arduino',\n",
              " 'ASP.NET',\n",
              " 'Awesome Lists',\n",
              " 'Amazon Web Services',\n",
              " 'Azure',\n",
              " 'Babel',\n",
              " 'Bash',\n",
              " 'Bitcoin',\n",
              " 'Bootstrap',\n",
              " 'Bot',\n",
              " 'C',\n",
              " 'Chrome',\n",
              " 'Chrome extension',\n",
              " 'Command-line interface',\n",
              " 'Clojure',\n",
              " 'Code quality',\n",
              " 'Code review',\n",
              " 'Compiler',\n",
              " 'Continuous integration',\n",
              " 'C++',\n",
              " 'Cryptocurrency',\n",
              " 'Crystal']"
            ]
          },
          "metadata": {},
          "execution_count": 15
        }
      ],
      "source": [
        "titles = []\n",
        "for tags in p_tags:\n",
        "    titles.append(tags.text)\n",
        "titles"
      ]
    },
    {
      "cell_type": "code",
      "execution_count": 21,
      "id": "closing-superior",
      "metadata": {
        "id": "closing-superior"
      },
      "outputs": [],
      "source": [
        "# Topics description\n",
        "p_tags_2 = doc.find_all('p', {'class': 'f5 color-text-secondary mb-0 mt-1'})"
      ]
    },
    {
      "cell_type": "code",
      "execution_count": 19,
      "id": "intellectual-acoustic",
      "metadata": {
        "id": "intellectual-acoustic",
        "outputId": "08965b19-93a1-4ba3-f431-900ec20803aa",
        "colab": {
          "base_uri": "https://localhost:8080/"
        }
      },
      "outputs": [
        {
          "output_type": "execute_result",
          "data": {
            "text/plain": [
              "[]"
            ]
          },
          "metadata": {},
          "execution_count": 19
        }
      ],
      "source": [
        "p_tags_2"
      ]
    },
    {
      "cell_type": "code",
      "execution_count": 22,
      "id": "sustained-combat",
      "metadata": {
        "id": "sustained-combat",
        "outputId": "68c5d1c8-973d-4605-f29b-dbd4dbe93301",
        "colab": {
          "base_uri": "https://localhost:8080/",
          "height": 141
        }
      },
      "outputs": [
        {
          "output_type": "error",
          "ename": "IndexError",
          "evalue": "list index out of range",
          "traceback": [
            "\u001b[0;31m---------------------------------------------------------------------------\u001b[0m",
            "\u001b[0;31mIndexError\u001b[0m                                Traceback (most recent call last)",
            "\u001b[0;32m<ipython-input-22-89bb0356d132>\u001b[0m in \u001b[0;36m<cell line: 1>\u001b[0;34m()\u001b[0m\n\u001b[0;32m----> 1\u001b[0;31m \u001b[0mp_tags_2\u001b[0m\u001b[0;34m[\u001b[0m\u001b[0;36m0\u001b[0m\u001b[0;34m]\u001b[0m\u001b[0;34m\u001b[0m\u001b[0;34m\u001b[0m\u001b[0m\n\u001b[0m",
            "\u001b[0;31mIndexError\u001b[0m: list index out of range"
          ]
        }
      ],
      "source": [
        "p_tags_2[0]"
      ]
    },
    {
      "cell_type": "code",
      "execution_count": null,
      "id": "excited-architecture",
      "metadata": {
        "id": "excited-architecture",
        "outputId": "b94f3492-8152-4dff-96ef-64b3e13414d5"
      },
      "outputs": [
        {
          "data": {
            "text/plain": [
              "'\\n              3D modeling is the process of virtually developing the surface and structure of a 3D object.\\n            '"
            ]
          },
          "execution_count": 28,
          "metadata": {},
          "output_type": "execute_result"
        }
      ],
      "source": [
        "p_tags_2[0].text"
      ]
    },
    {
      "cell_type": "code",
      "execution_count": null,
      "id": "furnished-executive",
      "metadata": {
        "id": "furnished-executive",
        "outputId": "a1178a86-43be-4a5b-b36b-e17e11a92885"
      },
      "outputs": [
        {
          "data": {
            "text/plain": [
              "'3D modeling is the process of virtually developing the surface and structure of a 3D object.'"
            ]
          },
          "execution_count": 29,
          "metadata": {},
          "output_type": "execute_result"
        }
      ],
      "source": [
        "p_tags_2[0].text.strip()"
      ]
    },
    {
      "cell_type": "code",
      "execution_count": null,
      "id": "roman-preference",
      "metadata": {
        "id": "roman-preference",
        "outputId": "466bad0f-b21e-4702-84e3-b165b402ab39"
      },
      "outputs": [
        {
          "data": {
            "text/plain": [
              "['3D modeling is the process of virtually developing the surface and structure of a 3D object.',\n",
              " 'Ajax is a technique for creating interactive web applications.',\n",
              " 'Algorithms are self-contained sequences that carry out a variety of tasks.',\n",
              " 'Amp is a non-blocking concurrency framework for PHP.',\n",
              " 'Android is an operating system built by Google designed for mobile devices.',\n",
              " 'Angular is an open source web application platform.',\n",
              " 'Ansible is a simple and powerful automation engine.',\n",
              " 'An API (Application Programming Interface) is a collection of protocols and subroutines for building software.',\n",
              " 'Arduino is an open source hardware and software company and maker community.',\n",
              " 'ASP.NET is a web framework for building modern web apps and services.',\n",
              " 'Atom is a open source text editor built with web technologies.',\n",
              " 'An awesome list is a list of awesome things curated by the community.',\n",
              " 'Amazon Web Services provides on-demand cloud computing platforms on a subscription basis.',\n",
              " 'Azure is a cloud computing service created by Microsoft.',\n",
              " 'Babel is a compiler for writing next generation JavaScript, today.',\n",
              " 'Bash is a shell and command language interpreter for the GNU operating system.',\n",
              " 'Bitcoin is a cryptocurrency developed by Satoshi Nakamoto.',\n",
              " 'Bootstrap is an HTML, CSS, and JavaScript framework.',\n",
              " 'A bot is an application that runs automated tasks over the Internet.',\n",
              " 'C is a general purpose programming language that first appeared in 1972.',\n",
              " 'Chrome is a web browser from the tech company Google.',\n",
              " 'Google Chrome Extensions are add-ons that allow users to customize their Chrome web browser.',\n",
              " 'A CLI, or command-line interface, is a console that helps users issue commands to a program.',\n",
              " 'Clojure is a dynamic, general-purpose programming language.',\n",
              " 'Automate your code review with style, quality, security, and test‑coverage checks when you need them.',\n",
              " 'Ensure your code meets quality standards and ship with confidence.',\n",
              " 'Compilers are software that translate higher-level programming languages to lower-level languages (e.g. machine code).',\n",
              " 'Automatically build and test your code as you push it upstream, preventing bugs from being deployed to production.',\n",
              " 'The coronavirus disease 2019 (COVID-19) is an infectious disease caused by SARS-CoV-2.',\n",
              " 'C++ is a general purpose and object-oriented programming language.']"
            ]
          },
          "execution_count": 32,
          "metadata": {},
          "output_type": "execute_result"
        }
      ],
      "source": [
        "desc = []\n",
        "for tags in p_tags_2:\n",
        "    desc.append(tags.text.strip())\n",
        "desc"
      ]
    },
    {
      "cell_type": "code",
      "execution_count": null,
      "id": "vocal-calendar",
      "metadata": {
        "id": "vocal-calendar"
      },
      "outputs": [],
      "source": [
        "# Topic page link\n",
        "a_tags = doc.find_all('a', {'class': 'd-flex no-underline'})"
      ]
    },
    {
      "cell_type": "code",
      "execution_count": null,
      "id": "quarterly-whole",
      "metadata": {
        "id": "quarterly-whole",
        "outputId": "185564c5-9353-448b-bd9d-2932e17591bc"
      },
      "outputs": [
        {
          "data": {
            "text/plain": [
              "[<a class=\"d-flex no-underline\" data-ga-click=\"Explore, go to 3d, location:All featured topics\" href=\"/topics/3d\">\n",
              " <div class=\"color-bg-info f4 color-text-tertiary text-bold rounded mr-3 flex-shrink-0 text-center\" style=\"width:64px; height:64px; line-height:64px;\">\n",
              "             #\n",
              "           </div>\n",
              " <div class=\"d-sm-flex flex-auto\">\n",
              " <div class=\"flex-auto\">\n",
              " <p class=\"f3 lh-condensed mb-0 mt-1 Link--primary\">3D</p>\n",
              " <p class=\"f5 color-text-secondary mb-0 mt-1\">\n",
              "               3D modeling is the process of virtually developing the surface and structure of a 3D object.\n",
              "             </p>\n",
              " </div>\n",
              " <div class=\"d-inline-block js-toggler-container starring-container\">\n",
              " <a aria-label=\"You must be signed in to star a topic\" class=\"btn btn-sm d-flex flex-items-center\" data-ga-click=\"Explore, click star button when signed out,\n",
              "         action:topics#index;\n",
              "         text:Star\" href=\"/login?return_to=%2Ftopics%2F3d\" title=\"You must be signed in to star a topic\">\n",
              " <svg aria-hidden=\"true\" class=\"octicon octicon-star mr-1\" height=\"16\" version=\"1.1\" viewbox=\"0 0 16 16\" width=\"16\"><path d=\"M8 .25a.75.75 0 01.673.418l1.882 3.815 4.21.612a.75.75 0 01.416 1.279l-3.046 2.97.719 4.192a.75.75 0 01-1.088.791L8 12.347l-3.766 1.98a.75.75 0 01-1.088-.79l.72-4.194L.818 6.374a.75.75 0 01.416-1.28l4.21-.611L7.327.668A.75.75 0 018 .25zm0 2.445L6.615 5.5a.75.75 0 01-.564.41l-3.097.45 2.24 2.184a.75.75 0 01.216.664l-.528 3.084 2.769-1.456a.75.75 0 01.698 0l2.77 1.456-.53-3.084a.75.75 0 01.216-.664l2.24-2.183-3.096-.45a.75.75 0 01-.564-.41L8 2.694v.001z\" fill-rule=\"evenodd\"></path></svg>Star\n",
              "     </a>\n",
              " </div>\n",
              " </div>\n",
              " </a>,\n",
              " <a class=\"d-flex no-underline\" data-ga-click=\"Explore, go to ajax, location:All featured topics\" href=\"/topics/ajax\">\n",
              " <img alt=\"ajax\" class=\"rounded mr-3\" height=\"64\" src=\"https://raw.githubusercontent.com/github/explore/8be26d91eb231fec0b8856359979ac09f27173fd/topics/ajax/ajax.png\" width=\"64\"/>\n",
              " <div class=\"d-sm-flex flex-auto\">\n",
              " <div class=\"flex-auto\">\n",
              " <p class=\"f3 lh-condensed mb-0 mt-1 Link--primary\">Ajax</p>\n",
              " <p class=\"f5 color-text-secondary mb-0 mt-1\">\n",
              "               Ajax is a technique for creating interactive web applications.\n",
              "             </p>\n",
              " </div>\n",
              " <div class=\"d-inline-block js-toggler-container starring-container\">\n",
              " <a aria-label=\"You must be signed in to star a topic\" class=\"btn btn-sm d-flex flex-items-center\" data-ga-click=\"Explore, click star button when signed out,\n",
              "         action:topics#index;\n",
              "         text:Star\" href=\"/login?return_to=%2Ftopics%2Fajax\" title=\"You must be signed in to star a topic\">\n",
              " <svg aria-hidden=\"true\" class=\"octicon octicon-star mr-1\" height=\"16\" version=\"1.1\" viewbox=\"0 0 16 16\" width=\"16\"><path d=\"M8 .25a.75.75 0 01.673.418l1.882 3.815 4.21.612a.75.75 0 01.416 1.279l-3.046 2.97.719 4.192a.75.75 0 01-1.088.791L8 12.347l-3.766 1.98a.75.75 0 01-1.088-.79l.72-4.194L.818 6.374a.75.75 0 01.416-1.28l4.21-.611L7.327.668A.75.75 0 018 .25zm0 2.445L6.615 5.5a.75.75 0 01-.564.41l-3.097.45 2.24 2.184a.75.75 0 01.216.664l-.528 3.084 2.769-1.456a.75.75 0 01.698 0l2.77 1.456-.53-3.084a.75.75 0 01.216-.664l2.24-2.183-3.096-.45a.75.75 0 01-.564-.41L8 2.694v.001z\" fill-rule=\"evenodd\"></path></svg>Star\n",
              "     </a>\n",
              " </div>\n",
              " </div>\n",
              " </a>,\n",
              " <a class=\"d-flex no-underline\" data-ga-click=\"Explore, go to algorithm, location:All featured topics\" href=\"/topics/algorithm\">\n",
              " <div class=\"color-bg-info f4 color-text-tertiary text-bold rounded mr-3 flex-shrink-0 text-center\" style=\"width:64px; height:64px; line-height:64px;\">\n",
              "             #\n",
              "           </div>\n",
              " <div class=\"d-sm-flex flex-auto\">\n",
              " <div class=\"flex-auto\">\n",
              " <p class=\"f3 lh-condensed mb-0 mt-1 Link--primary\">Algorithm</p>\n",
              " <p class=\"f5 color-text-secondary mb-0 mt-1\">\n",
              "               Algorithms are self-contained sequences that carry out a variety of tasks.\n",
              "             </p>\n",
              " </div>\n",
              " <div class=\"d-inline-block js-toggler-container starring-container\">\n",
              " <a aria-label=\"You must be signed in to star a topic\" class=\"btn btn-sm d-flex flex-items-center\" data-ga-click=\"Explore, click star button when signed out,\n",
              "         action:topics#index;\n",
              "         text:Star\" href=\"/login?return_to=%2Ftopics%2Falgorithm\" title=\"You must be signed in to star a topic\">\n",
              " <svg aria-hidden=\"true\" class=\"octicon octicon-star mr-1\" height=\"16\" version=\"1.1\" viewbox=\"0 0 16 16\" width=\"16\"><path d=\"M8 .25a.75.75 0 01.673.418l1.882 3.815 4.21.612a.75.75 0 01.416 1.279l-3.046 2.97.719 4.192a.75.75 0 01-1.088.791L8 12.347l-3.766 1.98a.75.75 0 01-1.088-.79l.72-4.194L.818 6.374a.75.75 0 01.416-1.28l4.21-.611L7.327.668A.75.75 0 018 .25zm0 2.445L6.615 5.5a.75.75 0 01-.564.41l-3.097.45 2.24 2.184a.75.75 0 01.216.664l-.528 3.084 2.769-1.456a.75.75 0 01.698 0l2.77 1.456-.53-3.084a.75.75 0 01.216-.664l2.24-2.183-3.096-.45a.75.75 0 01-.564-.41L8 2.694v.001z\" fill-rule=\"evenodd\"></path></svg>Star\n",
              "     </a>\n",
              " </div>\n",
              " </div>\n",
              " </a>,\n",
              " <a class=\"d-flex no-underline\" data-ga-click=\"Explore, go to amphp, location:All featured topics\" href=\"/topics/amphp\">\n",
              " <img alt=\"amphp\" class=\"rounded mr-3\" height=\"64\" src=\"https://raw.githubusercontent.com/github/explore/80688e429a7d4ef2fca1e82350fe8e3517d3494d/topics/amphp/amphp.png\" width=\"64\"/>\n",
              " <div class=\"d-sm-flex flex-auto\">\n",
              " <div class=\"flex-auto\">\n",
              " <p class=\"f3 lh-condensed mb-0 mt-1 Link--primary\">Amp</p>\n",
              " <p class=\"f5 color-text-secondary mb-0 mt-1\">\n",
              "               Amp is a non-blocking concurrency framework for PHP.\n",
              "             </p>\n",
              " </div>\n",
              " <div class=\"d-inline-block js-toggler-container starring-container\">\n",
              " <a aria-label=\"You must be signed in to star a topic\" class=\"btn btn-sm d-flex flex-items-center\" data-ga-click=\"Explore, click star button when signed out,\n",
              "         action:topics#index;\n",
              "         text:Star\" href=\"/login?return_to=%2Ftopics%2Famphp\" title=\"You must be signed in to star a topic\">\n",
              " <svg aria-hidden=\"true\" class=\"octicon octicon-star mr-1\" height=\"16\" version=\"1.1\" viewbox=\"0 0 16 16\" width=\"16\"><path d=\"M8 .25a.75.75 0 01.673.418l1.882 3.815 4.21.612a.75.75 0 01.416 1.279l-3.046 2.97.719 4.192a.75.75 0 01-1.088.791L8 12.347l-3.766 1.98a.75.75 0 01-1.088-.79l.72-4.194L.818 6.374a.75.75 0 01.416-1.28l4.21-.611L7.327.668A.75.75 0 018 .25zm0 2.445L6.615 5.5a.75.75 0 01-.564.41l-3.097.45 2.24 2.184a.75.75 0 01.216.664l-.528 3.084 2.769-1.456a.75.75 0 01.698 0l2.77 1.456-.53-3.084a.75.75 0 01.216-.664l2.24-2.183-3.096-.45a.75.75 0 01-.564-.41L8 2.694v.001z\" fill-rule=\"evenodd\"></path></svg>Star\n",
              "     </a>\n",
              " </div>\n",
              " </div>\n",
              " </a>,\n",
              " <a class=\"d-flex no-underline\" data-ga-click=\"Explore, go to android, location:All featured topics\" href=\"/topics/android\">\n",
              " <img alt=\"android\" class=\"rounded mr-3\" height=\"64\" src=\"https://raw.githubusercontent.com/github/explore/80688e429a7d4ef2fca1e82350fe8e3517d3494d/topics/android/android.png\" width=\"64\"/>\n",
              " <div class=\"d-sm-flex flex-auto\">\n",
              " <div class=\"flex-auto\">\n",
              " <p class=\"f3 lh-condensed mb-0 mt-1 Link--primary\">Android</p>\n",
              " <p class=\"f5 color-text-secondary mb-0 mt-1\">\n",
              "               Android is an operating system built by Google designed for mobile devices.\n",
              "             </p>\n",
              " </div>\n",
              " <div class=\"d-inline-block js-toggler-container starring-container\">\n",
              " <a aria-label=\"You must be signed in to star a topic\" class=\"btn btn-sm d-flex flex-items-center\" data-ga-click=\"Explore, click star button when signed out,\n",
              "         action:topics#index;\n",
              "         text:Star\" href=\"/login?return_to=%2Ftopics%2Fandroid\" title=\"You must be signed in to star a topic\">\n",
              " <svg aria-hidden=\"true\" class=\"octicon octicon-star mr-1\" height=\"16\" version=\"1.1\" viewbox=\"0 0 16 16\" width=\"16\"><path d=\"M8 .25a.75.75 0 01.673.418l1.882 3.815 4.21.612a.75.75 0 01.416 1.279l-3.046 2.97.719 4.192a.75.75 0 01-1.088.791L8 12.347l-3.766 1.98a.75.75 0 01-1.088-.79l.72-4.194L.818 6.374a.75.75 0 01.416-1.28l4.21-.611L7.327.668A.75.75 0 018 .25zm0 2.445L6.615 5.5a.75.75 0 01-.564.41l-3.097.45 2.24 2.184a.75.75 0 01.216.664l-.528 3.084 2.769-1.456a.75.75 0 01.698 0l2.77 1.456-.53-3.084a.75.75 0 01.216-.664l2.24-2.183-3.096-.45a.75.75 0 01-.564-.41L8 2.694v.001z\" fill-rule=\"evenodd\"></path></svg>Star\n",
              "     </a>\n",
              " </div>\n",
              " </div>\n",
              " </a>,\n",
              " <a class=\"d-flex no-underline\" data-ga-click=\"Explore, go to angular, location:All featured topics\" href=\"/topics/angular\">\n",
              " <img alt=\"angular\" class=\"rounded mr-3\" height=\"64\" src=\"https://raw.githubusercontent.com/github/explore/80688e429a7d4ef2fca1e82350fe8e3517d3494d/topics/angular/angular.png\" width=\"64\"/>\n",
              " <div class=\"d-sm-flex flex-auto\">\n",
              " <div class=\"flex-auto\">\n",
              " <p class=\"f3 lh-condensed mb-0 mt-1 Link--primary\">Angular</p>\n",
              " <p class=\"f5 color-text-secondary mb-0 mt-1\">\n",
              "               Angular is an open source web application platform.\n",
              "             </p>\n",
              " </div>\n",
              " <div class=\"d-inline-block js-toggler-container starring-container\">\n",
              " <a aria-label=\"You must be signed in to star a topic\" class=\"btn btn-sm d-flex flex-items-center\" data-ga-click=\"Explore, click star button when signed out,\n",
              "         action:topics#index;\n",
              "         text:Star\" href=\"/login?return_to=%2Ftopics%2Fangular\" title=\"You must be signed in to star a topic\">\n",
              " <svg aria-hidden=\"true\" class=\"octicon octicon-star mr-1\" height=\"16\" version=\"1.1\" viewbox=\"0 0 16 16\" width=\"16\"><path d=\"M8 .25a.75.75 0 01.673.418l1.882 3.815 4.21.612a.75.75 0 01.416 1.279l-3.046 2.97.719 4.192a.75.75 0 01-1.088.791L8 12.347l-3.766 1.98a.75.75 0 01-1.088-.79l.72-4.194L.818 6.374a.75.75 0 01.416-1.28l4.21-.611L7.327.668A.75.75 0 018 .25zm0 2.445L6.615 5.5a.75.75 0 01-.564.41l-3.097.45 2.24 2.184a.75.75 0 01.216.664l-.528 3.084 2.769-1.456a.75.75 0 01.698 0l2.77 1.456-.53-3.084a.75.75 0 01.216-.664l2.24-2.183-3.096-.45a.75.75 0 01-.564-.41L8 2.694v.001z\" fill-rule=\"evenodd\"></path></svg>Star\n",
              "     </a>\n",
              " </div>\n",
              " </div>\n",
              " </a>,\n",
              " <a class=\"d-flex no-underline\" data-ga-click=\"Explore, go to ansible, location:All featured topics\" href=\"/topics/ansible\">\n",
              " <img alt=\"ansible\" class=\"rounded mr-3\" height=\"64\" src=\"https://raw.githubusercontent.com/github/explore/80688e429a7d4ef2fca1e82350fe8e3517d3494d/topics/ansible/ansible.png\" width=\"64\"/>\n",
              " <div class=\"d-sm-flex flex-auto\">\n",
              " <div class=\"flex-auto\">\n",
              " <p class=\"f3 lh-condensed mb-0 mt-1 Link--primary\">Ansible</p>\n",
              " <p class=\"f5 color-text-secondary mb-0 mt-1\">\n",
              "               Ansible is a simple and powerful automation engine.\n",
              "             </p>\n",
              " </div>\n",
              " <div class=\"d-inline-block js-toggler-container starring-container\">\n",
              " <a aria-label=\"You must be signed in to star a topic\" class=\"btn btn-sm d-flex flex-items-center\" data-ga-click=\"Explore, click star button when signed out,\n",
              "         action:topics#index;\n",
              "         text:Star\" href=\"/login?return_to=%2Ftopics%2Fansible\" title=\"You must be signed in to star a topic\">\n",
              " <svg aria-hidden=\"true\" class=\"octicon octicon-star mr-1\" height=\"16\" version=\"1.1\" viewbox=\"0 0 16 16\" width=\"16\"><path d=\"M8 .25a.75.75 0 01.673.418l1.882 3.815 4.21.612a.75.75 0 01.416 1.279l-3.046 2.97.719 4.192a.75.75 0 01-1.088.791L8 12.347l-3.766 1.98a.75.75 0 01-1.088-.79l.72-4.194L.818 6.374a.75.75 0 01.416-1.28l4.21-.611L7.327.668A.75.75 0 018 .25zm0 2.445L6.615 5.5a.75.75 0 01-.564.41l-3.097.45 2.24 2.184a.75.75 0 01.216.664l-.528 3.084 2.769-1.456a.75.75 0 01.698 0l2.77 1.456-.53-3.084a.75.75 0 01.216-.664l2.24-2.183-3.096-.45a.75.75 0 01-.564-.41L8 2.694v.001z\" fill-rule=\"evenodd\"></path></svg>Star\n",
              "     </a>\n",
              " </div>\n",
              " </div>\n",
              " </a>,\n",
              " <a class=\"d-flex no-underline\" data-ga-click=\"Explore, go to api, location:All featured topics\" href=\"/topics/api\">\n",
              " <div class=\"color-bg-info f4 color-text-tertiary text-bold rounded mr-3 flex-shrink-0 text-center\" style=\"width:64px; height:64px; line-height:64px;\">\n",
              "             #\n",
              "           </div>\n",
              " <div class=\"d-sm-flex flex-auto\">\n",
              " <div class=\"flex-auto\">\n",
              " <p class=\"f3 lh-condensed mb-0 mt-1 Link--primary\">API</p>\n",
              " <p class=\"f5 color-text-secondary mb-0 mt-1\">\n",
              "               An API (Application Programming Interface) is a collection of protocols and subroutines for building software.\n",
              "             </p>\n",
              " </div>\n",
              " <div class=\"d-inline-block js-toggler-container starring-container\">\n",
              " <a aria-label=\"You must be signed in to star a topic\" class=\"btn btn-sm d-flex flex-items-center\" data-ga-click=\"Explore, click star button when signed out,\n",
              "         action:topics#index;\n",
              "         text:Star\" href=\"/login?return_to=%2Ftopics%2Fapi\" title=\"You must be signed in to star a topic\">\n",
              " <svg aria-hidden=\"true\" class=\"octicon octicon-star mr-1\" height=\"16\" version=\"1.1\" viewbox=\"0 0 16 16\" width=\"16\"><path d=\"M8 .25a.75.75 0 01.673.418l1.882 3.815 4.21.612a.75.75 0 01.416 1.279l-3.046 2.97.719 4.192a.75.75 0 01-1.088.791L8 12.347l-3.766 1.98a.75.75 0 01-1.088-.79l.72-4.194L.818 6.374a.75.75 0 01.416-1.28l4.21-.611L7.327.668A.75.75 0 018 .25zm0 2.445L6.615 5.5a.75.75 0 01-.564.41l-3.097.45 2.24 2.184a.75.75 0 01.216.664l-.528 3.084 2.769-1.456a.75.75 0 01.698 0l2.77 1.456-.53-3.084a.75.75 0 01.216-.664l2.24-2.183-3.096-.45a.75.75 0 01-.564-.41L8 2.694v.001z\" fill-rule=\"evenodd\"></path></svg>Star\n",
              "     </a>\n",
              " </div>\n",
              " </div>\n",
              " </a>,\n",
              " <a class=\"d-flex no-underline\" data-ga-click=\"Explore, go to arduino, location:All featured topics\" href=\"/topics/arduino\">\n",
              " <img alt=\"arduino\" class=\"rounded mr-3\" height=\"64\" src=\"https://raw.githubusercontent.com/github/explore/80688e429a7d4ef2fca1e82350fe8e3517d3494d/topics/arduino/arduino.png\" width=\"64\"/>\n",
              " <div class=\"d-sm-flex flex-auto\">\n",
              " <div class=\"flex-auto\">\n",
              " <p class=\"f3 lh-condensed mb-0 mt-1 Link--primary\">Arduino</p>\n",
              " <p class=\"f5 color-text-secondary mb-0 mt-1\">\n",
              "               Arduino is an open source hardware and software company and maker community.\n",
              "             </p>\n",
              " </div>\n",
              " <div class=\"d-inline-block js-toggler-container starring-container\">\n",
              " <a aria-label=\"You must be signed in to star a topic\" class=\"btn btn-sm d-flex flex-items-center\" data-ga-click=\"Explore, click star button when signed out,\n",
              "         action:topics#index;\n",
              "         text:Star\" href=\"/login?return_to=%2Ftopics%2Farduino\" title=\"You must be signed in to star a topic\">\n",
              " <svg aria-hidden=\"true\" class=\"octicon octicon-star mr-1\" height=\"16\" version=\"1.1\" viewbox=\"0 0 16 16\" width=\"16\"><path d=\"M8 .25a.75.75 0 01.673.418l1.882 3.815 4.21.612a.75.75 0 01.416 1.279l-3.046 2.97.719 4.192a.75.75 0 01-1.088.791L8 12.347l-3.766 1.98a.75.75 0 01-1.088-.79l.72-4.194L.818 6.374a.75.75 0 01.416-1.28l4.21-.611L7.327.668A.75.75 0 018 .25zm0 2.445L6.615 5.5a.75.75 0 01-.564.41l-3.097.45 2.24 2.184a.75.75 0 01.216.664l-.528 3.084 2.769-1.456a.75.75 0 01.698 0l2.77 1.456-.53-3.084a.75.75 0 01.216-.664l2.24-2.183-3.096-.45a.75.75 0 01-.564-.41L8 2.694v.001z\" fill-rule=\"evenodd\"></path></svg>Star\n",
              "     </a>\n",
              " </div>\n",
              " </div>\n",
              " </a>,\n",
              " <a class=\"d-flex no-underline\" data-ga-click=\"Explore, go to aspnet, location:All featured topics\" href=\"/topics/aspnet\">\n",
              " <img alt=\"aspnet\" class=\"rounded mr-3\" height=\"64\" src=\"https://raw.githubusercontent.com/github/explore/80688e429a7d4ef2fca1e82350fe8e3517d3494d/topics/aspnet/aspnet.png\" width=\"64\"/>\n",
              " <div class=\"d-sm-flex flex-auto\">\n",
              " <div class=\"flex-auto\">\n",
              " <p class=\"f3 lh-condensed mb-0 mt-1 Link--primary\">ASP.NET</p>\n",
              " <p class=\"f5 color-text-secondary mb-0 mt-1\">\n",
              "               ASP.NET is a web framework for building modern web apps and services.\n",
              "             </p>\n",
              " </div>\n",
              " <div class=\"d-inline-block js-toggler-container starring-container\">\n",
              " <a aria-label=\"You must be signed in to star a topic\" class=\"btn btn-sm d-flex flex-items-center\" data-ga-click=\"Explore, click star button when signed out,\n",
              "         action:topics#index;\n",
              "         text:Star\" href=\"/login?return_to=%2Ftopics%2Faspnet\" title=\"You must be signed in to star a topic\">\n",
              " <svg aria-hidden=\"true\" class=\"octicon octicon-star mr-1\" height=\"16\" version=\"1.1\" viewbox=\"0 0 16 16\" width=\"16\"><path d=\"M8 .25a.75.75 0 01.673.418l1.882 3.815 4.21.612a.75.75 0 01.416 1.279l-3.046 2.97.719 4.192a.75.75 0 01-1.088.791L8 12.347l-3.766 1.98a.75.75 0 01-1.088-.79l.72-4.194L.818 6.374a.75.75 0 01.416-1.28l4.21-.611L7.327.668A.75.75 0 018 .25zm0 2.445L6.615 5.5a.75.75 0 01-.564.41l-3.097.45 2.24 2.184a.75.75 0 01.216.664l-.528 3.084 2.769-1.456a.75.75 0 01.698 0l2.77 1.456-.53-3.084a.75.75 0 01.216-.664l2.24-2.183-3.096-.45a.75.75 0 01-.564-.41L8 2.694v.001z\" fill-rule=\"evenodd\"></path></svg>Star\n",
              "     </a>\n",
              " </div>\n",
              " </div>\n",
              " </a>,\n",
              " <a class=\"d-flex no-underline\" data-ga-click=\"Explore, go to atom, location:All featured topics\" href=\"/topics/atom\">\n",
              " <img alt=\"atom\" class=\"rounded mr-3\" height=\"64\" src=\"https://raw.githubusercontent.com/github/explore/80688e429a7d4ef2fca1e82350fe8e3517d3494d/topics/atom/atom.png\" width=\"64\"/>\n",
              " <div class=\"d-sm-flex flex-auto\">\n",
              " <div class=\"flex-auto\">\n",
              " <p class=\"f3 lh-condensed mb-0 mt-1 Link--primary\">Atom</p>\n",
              " <p class=\"f5 color-text-secondary mb-0 mt-1\">\n",
              "               Atom is a open source text editor built with web technologies.\n",
              "             </p>\n",
              " </div>\n",
              " <div class=\"d-inline-block js-toggler-container starring-container\">\n",
              " <a aria-label=\"You must be signed in to star a topic\" class=\"btn btn-sm d-flex flex-items-center\" data-ga-click=\"Explore, click star button when signed out,\n",
              "         action:topics#index;\n",
              "         text:Star\" href=\"/login?return_to=%2Ftopics%2Fatom\" title=\"You must be signed in to star a topic\">\n",
              " <svg aria-hidden=\"true\" class=\"octicon octicon-star mr-1\" height=\"16\" version=\"1.1\" viewbox=\"0 0 16 16\" width=\"16\"><path d=\"M8 .25a.75.75 0 01.673.418l1.882 3.815 4.21.612a.75.75 0 01.416 1.279l-3.046 2.97.719 4.192a.75.75 0 01-1.088.791L8 12.347l-3.766 1.98a.75.75 0 01-1.088-.79l.72-4.194L.818 6.374a.75.75 0 01.416-1.28l4.21-.611L7.327.668A.75.75 0 018 .25zm0 2.445L6.615 5.5a.75.75 0 01-.564.41l-3.097.45 2.24 2.184a.75.75 0 01.216.664l-.528 3.084 2.769-1.456a.75.75 0 01.698 0l2.77 1.456-.53-3.084a.75.75 0 01.216-.664l2.24-2.183-3.096-.45a.75.75 0 01-.564-.41L8 2.694v.001z\" fill-rule=\"evenodd\"></path></svg>Star\n",
              "     </a>\n",
              " </div>\n",
              " </div>\n",
              " </a>,\n",
              " <a class=\"d-flex no-underline\" data-ga-click=\"Explore, go to awesome, location:All featured topics\" href=\"/topics/awesome\">\n",
              " <img alt=\"awesome\" class=\"rounded mr-3\" height=\"64\" src=\"https://raw.githubusercontent.com/github/explore/80688e429a7d4ef2fca1e82350fe8e3517d3494d/topics/awesome/awesome.png\" width=\"64\"/>\n",
              " <div class=\"d-sm-flex flex-auto\">\n",
              " <div class=\"flex-auto\">\n",
              " <p class=\"f3 lh-condensed mb-0 mt-1 Link--primary\">Awesome Lists</p>\n",
              " <p class=\"f5 color-text-secondary mb-0 mt-1\">\n",
              "               An awesome list is a list of awesome things curated by the community.\n",
              "             </p>\n",
              " </div>\n",
              " <div class=\"d-inline-block js-toggler-container starring-container\">\n",
              " <a aria-label=\"You must be signed in to star a topic\" class=\"btn btn-sm d-flex flex-items-center\" data-ga-click=\"Explore, click star button when signed out,\n",
              "         action:topics#index;\n",
              "         text:Star\" href=\"/login?return_to=%2Ftopics%2Fawesome\" title=\"You must be signed in to star a topic\">\n",
              " <svg aria-hidden=\"true\" class=\"octicon octicon-star mr-1\" height=\"16\" version=\"1.1\" viewbox=\"0 0 16 16\" width=\"16\"><path d=\"M8 .25a.75.75 0 01.673.418l1.882 3.815 4.21.612a.75.75 0 01.416 1.279l-3.046 2.97.719 4.192a.75.75 0 01-1.088.791L8 12.347l-3.766 1.98a.75.75 0 01-1.088-.79l.72-4.194L.818 6.374a.75.75 0 01.416-1.28l4.21-.611L7.327.668A.75.75 0 018 .25zm0 2.445L6.615 5.5a.75.75 0 01-.564.41l-3.097.45 2.24 2.184a.75.75 0 01.216.664l-.528 3.084 2.769-1.456a.75.75 0 01.698 0l2.77 1.456-.53-3.084a.75.75 0 01.216-.664l2.24-2.183-3.096-.45a.75.75 0 01-.564-.41L8 2.694v.001z\" fill-rule=\"evenodd\"></path></svg>Star\n",
              "     </a>\n",
              " </div>\n",
              " </div>\n",
              " </a>,\n",
              " <a class=\"d-flex no-underline\" data-ga-click=\"Explore, go to aws, location:All featured topics\" href=\"/topics/aws\">\n",
              " <img alt=\"aws\" class=\"rounded mr-3\" height=\"64\" src=\"https://raw.githubusercontent.com/github/explore/fbceb94436312b6dacde68d122a5b9c7d11f9524/topics/aws/aws.png\" width=\"64\"/>\n",
              " <div class=\"d-sm-flex flex-auto\">\n",
              " <div class=\"flex-auto\">\n",
              " <p class=\"f3 lh-condensed mb-0 mt-1 Link--primary\">Amazon Web Services</p>\n",
              " <p class=\"f5 color-text-secondary mb-0 mt-1\">\n",
              "               Amazon Web Services provides on-demand cloud computing platforms on a subscription basis.\n",
              "             </p>\n",
              " </div>\n",
              " <div class=\"d-inline-block js-toggler-container starring-container\">\n",
              " <a aria-label=\"You must be signed in to star a topic\" class=\"btn btn-sm d-flex flex-items-center\" data-ga-click=\"Explore, click star button when signed out,\n",
              "         action:topics#index;\n",
              "         text:Star\" href=\"/login?return_to=%2Ftopics%2Faws\" title=\"You must be signed in to star a topic\">\n",
              " <svg aria-hidden=\"true\" class=\"octicon octicon-star mr-1\" height=\"16\" version=\"1.1\" viewbox=\"0 0 16 16\" width=\"16\"><path d=\"M8 .25a.75.75 0 01.673.418l1.882 3.815 4.21.612a.75.75 0 01.416 1.279l-3.046 2.97.719 4.192a.75.75 0 01-1.088.791L8 12.347l-3.766 1.98a.75.75 0 01-1.088-.79l.72-4.194L.818 6.374a.75.75 0 01.416-1.28l4.21-.611L7.327.668A.75.75 0 018 .25zm0 2.445L6.615 5.5a.75.75 0 01-.564.41l-3.097.45 2.24 2.184a.75.75 0 01.216.664l-.528 3.084 2.769-1.456a.75.75 0 01.698 0l2.77 1.456-.53-3.084a.75.75 0 01.216-.664l2.24-2.183-3.096-.45a.75.75 0 01-.564-.41L8 2.694v.001z\" fill-rule=\"evenodd\"></path></svg>Star\n",
              "     </a>\n",
              " </div>\n",
              " </div>\n",
              " </a>,\n",
              " <a class=\"d-flex no-underline\" data-ga-click=\"Explore, go to azure, location:All featured topics\" href=\"/topics/azure\">\n",
              " <img alt=\"azure\" class=\"rounded mr-3\" height=\"64\" src=\"https://raw.githubusercontent.com/github/explore/80688e429a7d4ef2fca1e82350fe8e3517d3494d/topics/azure/azure.png\" width=\"64\"/>\n",
              " <div class=\"d-sm-flex flex-auto\">\n",
              " <div class=\"flex-auto\">\n",
              " <p class=\"f3 lh-condensed mb-0 mt-1 Link--primary\">Azure</p>\n",
              " <p class=\"f5 color-text-secondary mb-0 mt-1\">\n",
              "               Azure is a cloud computing service created by Microsoft.\n",
              "             </p>\n",
              " </div>\n",
              " <div class=\"d-inline-block js-toggler-container starring-container\">\n",
              " <a aria-label=\"You must be signed in to star a topic\" class=\"btn btn-sm d-flex flex-items-center\" data-ga-click=\"Explore, click star button when signed out,\n",
              "         action:topics#index;\n",
              "         text:Star\" href=\"/login?return_to=%2Ftopics%2Fazure\" title=\"You must be signed in to star a topic\">\n",
              " <svg aria-hidden=\"true\" class=\"octicon octicon-star mr-1\" height=\"16\" version=\"1.1\" viewbox=\"0 0 16 16\" width=\"16\"><path d=\"M8 .25a.75.75 0 01.673.418l1.882 3.815 4.21.612a.75.75 0 01.416 1.279l-3.046 2.97.719 4.192a.75.75 0 01-1.088.791L8 12.347l-3.766 1.98a.75.75 0 01-1.088-.79l.72-4.194L.818 6.374a.75.75 0 01.416-1.28l4.21-.611L7.327.668A.75.75 0 018 .25zm0 2.445L6.615 5.5a.75.75 0 01-.564.41l-3.097.45 2.24 2.184a.75.75 0 01.216.664l-.528 3.084 2.769-1.456a.75.75 0 01.698 0l2.77 1.456-.53-3.084a.75.75 0 01.216-.664l2.24-2.183-3.096-.45a.75.75 0 01-.564-.41L8 2.694v.001z\" fill-rule=\"evenodd\"></path></svg>Star\n",
              "     </a>\n",
              " </div>\n",
              " </div>\n",
              " </a>,\n",
              " <a class=\"d-flex no-underline\" data-ga-click=\"Explore, go to babel, location:All featured topics\" href=\"/topics/babel\">\n",
              " <img alt=\"babel\" class=\"rounded mr-3\" height=\"64\" src=\"https://raw.githubusercontent.com/github/explore/cb39e2385dfcec8a661d01bfacff6b1e33bbaa9d/topics/babel/babel.png\" width=\"64\"/>\n",
              " <div class=\"d-sm-flex flex-auto\">\n",
              " <div class=\"flex-auto\">\n",
              " <p class=\"f3 lh-condensed mb-0 mt-1 Link--primary\">Babel</p>\n",
              " <p class=\"f5 color-text-secondary mb-0 mt-1\">\n",
              "               Babel is a compiler for writing next generation JavaScript, today.\n",
              "             </p>\n",
              " </div>\n",
              " <div class=\"d-inline-block js-toggler-container starring-container\">\n",
              " <a aria-label=\"You must be signed in to star a topic\" class=\"btn btn-sm d-flex flex-items-center\" data-ga-click=\"Explore, click star button when signed out,\n",
              "         action:topics#index;\n",
              "         text:Star\" href=\"/login?return_to=%2Ftopics%2Fbabel\" title=\"You must be signed in to star a topic\">\n",
              " <svg aria-hidden=\"true\" class=\"octicon octicon-star mr-1\" height=\"16\" version=\"1.1\" viewbox=\"0 0 16 16\" width=\"16\"><path d=\"M8 .25a.75.75 0 01.673.418l1.882 3.815 4.21.612a.75.75 0 01.416 1.279l-3.046 2.97.719 4.192a.75.75 0 01-1.088.791L8 12.347l-3.766 1.98a.75.75 0 01-1.088-.79l.72-4.194L.818 6.374a.75.75 0 01.416-1.28l4.21-.611L7.327.668A.75.75 0 018 .25zm0 2.445L6.615 5.5a.75.75 0 01-.564.41l-3.097.45 2.24 2.184a.75.75 0 01.216.664l-.528 3.084 2.769-1.456a.75.75 0 01.698 0l2.77 1.456-.53-3.084a.75.75 0 01.216-.664l2.24-2.183-3.096-.45a.75.75 0 01-.564-.41L8 2.694v.001z\" fill-rule=\"evenodd\"></path></svg>Star\n",
              "     </a>\n",
              " </div>\n",
              " </div>\n",
              " </a>,\n",
              " <a class=\"d-flex no-underline\" data-ga-click=\"Explore, go to bash, location:All featured topics\" href=\"/topics/bash\">\n",
              " <img alt=\"bash\" class=\"rounded mr-3\" height=\"64\" src=\"https://raw.githubusercontent.com/github/explore/80688e429a7d4ef2fca1e82350fe8e3517d3494d/topics/bash/bash.png\" width=\"64\"/>\n",
              " <div class=\"d-sm-flex flex-auto\">\n",
              " <div class=\"flex-auto\">\n",
              " <p class=\"f3 lh-condensed mb-0 mt-1 Link--primary\">Bash</p>\n",
              " <p class=\"f5 color-text-secondary mb-0 mt-1\">\n",
              "               Bash is a shell and command language interpreter for the GNU operating system.\n",
              "             </p>\n",
              " </div>\n",
              " <div class=\"d-inline-block js-toggler-container starring-container\">\n",
              " <a aria-label=\"You must be signed in to star a topic\" class=\"btn btn-sm d-flex flex-items-center\" data-ga-click=\"Explore, click star button when signed out,\n",
              "         action:topics#index;\n",
              "         text:Star\" href=\"/login?return_to=%2Ftopics%2Fbash\" title=\"You must be signed in to star a topic\">\n",
              " <svg aria-hidden=\"true\" class=\"octicon octicon-star mr-1\" height=\"16\" version=\"1.1\" viewbox=\"0 0 16 16\" width=\"16\"><path d=\"M8 .25a.75.75 0 01.673.418l1.882 3.815 4.21.612a.75.75 0 01.416 1.279l-3.046 2.97.719 4.192a.75.75 0 01-1.088.791L8 12.347l-3.766 1.98a.75.75 0 01-1.088-.79l.72-4.194L.818 6.374a.75.75 0 01.416-1.28l4.21-.611L7.327.668A.75.75 0 018 .25zm0 2.445L6.615 5.5a.75.75 0 01-.564.41l-3.097.45 2.24 2.184a.75.75 0 01.216.664l-.528 3.084 2.769-1.456a.75.75 0 01.698 0l2.77 1.456-.53-3.084a.75.75 0 01.216-.664l2.24-2.183-3.096-.45a.75.75 0 01-.564-.41L8 2.694v.001z\" fill-rule=\"evenodd\"></path></svg>Star\n",
              "     </a>\n",
              " </div>\n",
              " </div>\n",
              " </a>,\n",
              " <a class=\"d-flex no-underline\" data-ga-click=\"Explore, go to bitcoin, location:All featured topics\" href=\"/topics/bitcoin\">\n",
              " <img alt=\"bitcoin\" class=\"rounded mr-3\" height=\"64\" src=\"https://raw.githubusercontent.com/github/explore/80688e429a7d4ef2fca1e82350fe8e3517d3494d/topics/bitcoin/bitcoin.png\" width=\"64\"/>\n",
              " <div class=\"d-sm-flex flex-auto\">\n",
              " <div class=\"flex-auto\">\n",
              " <p class=\"f3 lh-condensed mb-0 mt-1 Link--primary\">Bitcoin</p>\n",
              " <p class=\"f5 color-text-secondary mb-0 mt-1\">\n",
              "               Bitcoin is a cryptocurrency developed by Satoshi Nakamoto.\n",
              "             </p>\n",
              " </div>\n",
              " <div class=\"d-inline-block js-toggler-container starring-container\">\n",
              " <a aria-label=\"You must be signed in to star a topic\" class=\"btn btn-sm d-flex flex-items-center\" data-ga-click=\"Explore, click star button when signed out,\n",
              "         action:topics#index;\n",
              "         text:Star\" href=\"/login?return_to=%2Ftopics%2Fbitcoin\" title=\"You must be signed in to star a topic\">\n",
              " <svg aria-hidden=\"true\" class=\"octicon octicon-star mr-1\" height=\"16\" version=\"1.1\" viewbox=\"0 0 16 16\" width=\"16\"><path d=\"M8 .25a.75.75 0 01.673.418l1.882 3.815 4.21.612a.75.75 0 01.416 1.279l-3.046 2.97.719 4.192a.75.75 0 01-1.088.791L8 12.347l-3.766 1.98a.75.75 0 01-1.088-.79l.72-4.194L.818 6.374a.75.75 0 01.416-1.28l4.21-.611L7.327.668A.75.75 0 018 .25zm0 2.445L6.615 5.5a.75.75 0 01-.564.41l-3.097.45 2.24 2.184a.75.75 0 01.216.664l-.528 3.084 2.769-1.456a.75.75 0 01.698 0l2.77 1.456-.53-3.084a.75.75 0 01.216-.664l2.24-2.183-3.096-.45a.75.75 0 01-.564-.41L8 2.694v.001z\" fill-rule=\"evenodd\"></path></svg>Star\n",
              "     </a>\n",
              " </div>\n",
              " </div>\n",
              " </a>,\n",
              " <a class=\"d-flex no-underline\" data-ga-click=\"Explore, go to bootstrap, location:All featured topics\" href=\"/topics/bootstrap\">\n",
              " <img alt=\"bootstrap\" class=\"rounded mr-3\" height=\"64\" src=\"https://raw.githubusercontent.com/github/explore/80688e429a7d4ef2fca1e82350fe8e3517d3494d/topics/bootstrap/bootstrap.png\" width=\"64\"/>\n",
              " <div class=\"d-sm-flex flex-auto\">\n",
              " <div class=\"flex-auto\">\n",
              " <p class=\"f3 lh-condensed mb-0 mt-1 Link--primary\">Bootstrap</p>\n",
              " <p class=\"f5 color-text-secondary mb-0 mt-1\">\n",
              "               Bootstrap is an HTML, CSS, and JavaScript framework.\n",
              "             </p>\n",
              " </div>\n",
              " <div class=\"d-inline-block js-toggler-container starring-container\">\n",
              " <a aria-label=\"You must be signed in to star a topic\" class=\"btn btn-sm d-flex flex-items-center\" data-ga-click=\"Explore, click star button when signed out,\n",
              "         action:topics#index;\n",
              "         text:Star\" href=\"/login?return_to=%2Ftopics%2Fbootstrap\" title=\"You must be signed in to star a topic\">\n",
              " <svg aria-hidden=\"true\" class=\"octicon octicon-star mr-1\" height=\"16\" version=\"1.1\" viewbox=\"0 0 16 16\" width=\"16\"><path d=\"M8 .25a.75.75 0 01.673.418l1.882 3.815 4.21.612a.75.75 0 01.416 1.279l-3.046 2.97.719 4.192a.75.75 0 01-1.088.791L8 12.347l-3.766 1.98a.75.75 0 01-1.088-.79l.72-4.194L.818 6.374a.75.75 0 01.416-1.28l4.21-.611L7.327.668A.75.75 0 018 .25zm0 2.445L6.615 5.5a.75.75 0 01-.564.41l-3.097.45 2.24 2.184a.75.75 0 01.216.664l-.528 3.084 2.769-1.456a.75.75 0 01.698 0l2.77 1.456-.53-3.084a.75.75 0 01.216-.664l2.24-2.183-3.096-.45a.75.75 0 01-.564-.41L8 2.694v.001z\" fill-rule=\"evenodd\"></path></svg>Star\n",
              "     </a>\n",
              " </div>\n",
              " </div>\n",
              " </a>,\n",
              " <a class=\"d-flex no-underline\" data-ga-click=\"Explore, go to bot, location:All featured topics\" href=\"/topics/bot\">\n",
              " <img alt=\"bot\" class=\"rounded mr-3\" height=\"64\" src=\"https://raw.githubusercontent.com/github/explore/f79df033ebbd00d8db1ea81f35a5945b110cbee9/topics/bot/bot.png\" width=\"64\"/>\n",
              " <div class=\"d-sm-flex flex-auto\">\n",
              " <div class=\"flex-auto\">\n",
              " <p class=\"f3 lh-condensed mb-0 mt-1 Link--primary\">Bot</p>\n",
              " <p class=\"f5 color-text-secondary mb-0 mt-1\">\n",
              "               A bot is an application that runs automated tasks over the Internet.\n",
              "             </p>\n",
              " </div>\n",
              " <div class=\"d-inline-block js-toggler-container starring-container\">\n",
              " <a aria-label=\"You must be signed in to star a topic\" class=\"btn btn-sm d-flex flex-items-center\" data-ga-click=\"Explore, click star button when signed out,\n",
              "         action:topics#index;\n",
              "         text:Star\" href=\"/login?return_to=%2Ftopics%2Fbot\" title=\"You must be signed in to star a topic\">\n",
              " <svg aria-hidden=\"true\" class=\"octicon octicon-star mr-1\" height=\"16\" version=\"1.1\" viewbox=\"0 0 16 16\" width=\"16\"><path d=\"M8 .25a.75.75 0 01.673.418l1.882 3.815 4.21.612a.75.75 0 01.416 1.279l-3.046 2.97.719 4.192a.75.75 0 01-1.088.791L8 12.347l-3.766 1.98a.75.75 0 01-1.088-.79l.72-4.194L.818 6.374a.75.75 0 01.416-1.28l4.21-.611L7.327.668A.75.75 0 018 .25zm0 2.445L6.615 5.5a.75.75 0 01-.564.41l-3.097.45 2.24 2.184a.75.75 0 01.216.664l-.528 3.084 2.769-1.456a.75.75 0 01.698 0l2.77 1.456-.53-3.084a.75.75 0 01.216-.664l2.24-2.183-3.096-.45a.75.75 0 01-.564-.41L8 2.694v.001z\" fill-rule=\"evenodd\"></path></svg>Star\n",
              "     </a>\n",
              " </div>\n",
              " </div>\n",
              " </a>,\n",
              " <a class=\"d-flex no-underline\" data-ga-click=\"Explore, go to c, location:All featured topics\" href=\"/topics/c\">\n",
              " <img alt=\"c\" class=\"rounded mr-3\" height=\"64\" src=\"https://raw.githubusercontent.com/github/explore/80688e429a7d4ef2fca1e82350fe8e3517d3494d/topics/c/c.png\" width=\"64\"/>\n",
              " <div class=\"d-sm-flex flex-auto\">\n",
              " <div class=\"flex-auto\">\n",
              " <p class=\"f3 lh-condensed mb-0 mt-1 Link--primary\">C</p>\n",
              " <p class=\"f5 color-text-secondary mb-0 mt-1\">\n",
              "               C is a general purpose programming language that first appeared in 1972.\n",
              "             </p>\n",
              " </div>\n",
              " <div class=\"d-inline-block js-toggler-container starring-container\">\n",
              " <a aria-label=\"You must be signed in to star a topic\" class=\"btn btn-sm d-flex flex-items-center\" data-ga-click=\"Explore, click star button when signed out,\n",
              "         action:topics#index;\n",
              "         text:Star\" href=\"/login?return_to=%2Ftopics%2Fc\" title=\"You must be signed in to star a topic\">\n",
              " <svg aria-hidden=\"true\" class=\"octicon octicon-star mr-1\" height=\"16\" version=\"1.1\" viewbox=\"0 0 16 16\" width=\"16\"><path d=\"M8 .25a.75.75 0 01.673.418l1.882 3.815 4.21.612a.75.75 0 01.416 1.279l-3.046 2.97.719 4.192a.75.75 0 01-1.088.791L8 12.347l-3.766 1.98a.75.75 0 01-1.088-.79l.72-4.194L.818 6.374a.75.75 0 01.416-1.28l4.21-.611L7.327.668A.75.75 0 018 .25zm0 2.445L6.615 5.5a.75.75 0 01-.564.41l-3.097.45 2.24 2.184a.75.75 0 01.216.664l-.528 3.084 2.769-1.456a.75.75 0 01.698 0l2.77 1.456-.53-3.084a.75.75 0 01.216-.664l2.24-2.183-3.096-.45a.75.75 0 01-.564-.41L8 2.694v.001z\" fill-rule=\"evenodd\"></path></svg>Star\n",
              "     </a>\n",
              " </div>\n",
              " </div>\n",
              " </a>,\n",
              " <a class=\"d-flex no-underline\" data-ga-click=\"Explore, go to chrome, location:All featured topics\" href=\"/topics/chrome\">\n",
              " <img alt=\"chrome\" class=\"rounded mr-3\" height=\"64\" src=\"https://raw.githubusercontent.com/github/explore/80688e429a7d4ef2fca1e82350fe8e3517d3494d/topics/chrome/chrome.png\" width=\"64\"/>\n",
              " <div class=\"d-sm-flex flex-auto\">\n",
              " <div class=\"flex-auto\">\n",
              " <p class=\"f3 lh-condensed mb-0 mt-1 Link--primary\">Chrome</p>\n",
              " <p class=\"f5 color-text-secondary mb-0 mt-1\">\n",
              "               Chrome is a web browser from the tech company Google.\n",
              "             </p>\n",
              " </div>\n",
              " <div class=\"d-inline-block js-toggler-container starring-container\">\n",
              " <a aria-label=\"You must be signed in to star a topic\" class=\"btn btn-sm d-flex flex-items-center\" data-ga-click=\"Explore, click star button when signed out,\n",
              "         action:topics#index;\n",
              "         text:Star\" href=\"/login?return_to=%2Ftopics%2Fchrome\" title=\"You must be signed in to star a topic\">\n",
              " <svg aria-hidden=\"true\" class=\"octicon octicon-star mr-1\" height=\"16\" version=\"1.1\" viewbox=\"0 0 16 16\" width=\"16\"><path d=\"M8 .25a.75.75 0 01.673.418l1.882 3.815 4.21.612a.75.75 0 01.416 1.279l-3.046 2.97.719 4.192a.75.75 0 01-1.088.791L8 12.347l-3.766 1.98a.75.75 0 01-1.088-.79l.72-4.194L.818 6.374a.75.75 0 01.416-1.28l4.21-.611L7.327.668A.75.75 0 018 .25zm0 2.445L6.615 5.5a.75.75 0 01-.564.41l-3.097.45 2.24 2.184a.75.75 0 01.216.664l-.528 3.084 2.769-1.456a.75.75 0 01.698 0l2.77 1.456-.53-3.084a.75.75 0 01.216-.664l2.24-2.183-3.096-.45a.75.75 0 01-.564-.41L8 2.694v.001z\" fill-rule=\"evenodd\"></path></svg>Star\n",
              "     </a>\n",
              " </div>\n",
              " </div>\n",
              " </a>,\n",
              " <a class=\"d-flex no-underline\" data-ga-click=\"Explore, go to chrome-extension, location:All featured topics\" href=\"/topics/chrome-extension\">\n",
              " <img alt=\"chrome-extension\" class=\"rounded mr-3\" height=\"64\" src=\"https://raw.githubusercontent.com/github/explore/80688e429a7d4ef2fca1e82350fe8e3517d3494d/topics/chrome-extension/chrome-extension.png\" width=\"64\"/>\n",
              " <div class=\"d-sm-flex flex-auto\">\n",
              " <div class=\"flex-auto\">\n",
              " <p class=\"f3 lh-condensed mb-0 mt-1 Link--primary\">Chrome extension</p>\n",
              " <p class=\"f5 color-text-secondary mb-0 mt-1\">\n",
              "               Google Chrome Extensions are add-ons that allow users to customize their Chrome web browser.\n",
              "             </p>\n",
              " </div>\n",
              " <div class=\"d-inline-block js-toggler-container starring-container\">\n",
              " <a aria-label=\"You must be signed in to star a topic\" class=\"btn btn-sm d-flex flex-items-center\" data-ga-click=\"Explore, click star button when signed out,\n",
              "         action:topics#index;\n",
              "         text:Star\" href=\"/login?return_to=%2Ftopics%2Fchrome-extension\" title=\"You must be signed in to star a topic\">\n",
              " <svg aria-hidden=\"true\" class=\"octicon octicon-star mr-1\" height=\"16\" version=\"1.1\" viewbox=\"0 0 16 16\" width=\"16\"><path d=\"M8 .25a.75.75 0 01.673.418l1.882 3.815 4.21.612a.75.75 0 01.416 1.279l-3.046 2.97.719 4.192a.75.75 0 01-1.088.791L8 12.347l-3.766 1.98a.75.75 0 01-1.088-.79l.72-4.194L.818 6.374a.75.75 0 01.416-1.28l4.21-.611L7.327.668A.75.75 0 018 .25zm0 2.445L6.615 5.5a.75.75 0 01-.564.41l-3.097.45 2.24 2.184a.75.75 0 01.216.664l-.528 3.084 2.769-1.456a.75.75 0 01.698 0l2.77 1.456-.53-3.084a.75.75 0 01.216-.664l2.24-2.183-3.096-.45a.75.75 0 01-.564-.41L8 2.694v.001z\" fill-rule=\"evenodd\"></path></svg>Star\n",
              "     </a>\n",
              " </div>\n",
              " </div>\n",
              " </a>,\n",
              " <a class=\"d-flex no-underline\" data-ga-click=\"Explore, go to cli, location:All featured topics\" href=\"/topics/cli\">\n",
              " <img alt=\"cli\" class=\"rounded mr-3\" height=\"64\" src=\"https://raw.githubusercontent.com/github/explore/aca0b3b69ca680013b925338b0cc428190aa42dc/topics/cli/cli.png\" width=\"64\"/>\n",
              " <div class=\"d-sm-flex flex-auto\">\n",
              " <div class=\"flex-auto\">\n",
              " <p class=\"f3 lh-condensed mb-0 mt-1 Link--primary\">Command line interface</p>\n",
              " <p class=\"f5 color-text-secondary mb-0 mt-1\">\n",
              "               A CLI, or command-line interface, is a console that helps users issue commands to a program.\n",
              "             </p>\n",
              " </div>\n",
              " <div class=\"d-inline-block js-toggler-container starring-container\">\n",
              " <a aria-label=\"You must be signed in to star a topic\" class=\"btn btn-sm d-flex flex-items-center\" data-ga-click=\"Explore, click star button when signed out,\n",
              "         action:topics#index;\n",
              "         text:Star\" href=\"/login?return_to=%2Ftopics%2Fcli\" title=\"You must be signed in to star a topic\">\n",
              " <svg aria-hidden=\"true\" class=\"octicon octicon-star mr-1\" height=\"16\" version=\"1.1\" viewbox=\"0 0 16 16\" width=\"16\"><path d=\"M8 .25a.75.75 0 01.673.418l1.882 3.815 4.21.612a.75.75 0 01.416 1.279l-3.046 2.97.719 4.192a.75.75 0 01-1.088.791L8 12.347l-3.766 1.98a.75.75 0 01-1.088-.79l.72-4.194L.818 6.374a.75.75 0 01.416-1.28l4.21-.611L7.327.668A.75.75 0 018 .25zm0 2.445L6.615 5.5a.75.75 0 01-.564.41l-3.097.45 2.24 2.184a.75.75 0 01.216.664l-.528 3.084 2.769-1.456a.75.75 0 01.698 0l2.77 1.456-.53-3.084a.75.75 0 01.216-.664l2.24-2.183-3.096-.45a.75.75 0 01-.564-.41L8 2.694v.001z\" fill-rule=\"evenodd\"></path></svg>Star\n",
              "     </a>\n",
              " </div>\n",
              " </div>\n",
              " </a>,\n",
              " <a class=\"d-flex no-underline\" data-ga-click=\"Explore, go to clojure, location:All featured topics\" href=\"/topics/clojure\">\n",
              " <img alt=\"clojure\" class=\"rounded mr-3\" height=\"64\" src=\"https://raw.githubusercontent.com/github/explore/80688e429a7d4ef2fca1e82350fe8e3517d3494d/topics/clojure/clojure.png\" width=\"64\"/>\n",
              " <div class=\"d-sm-flex flex-auto\">\n",
              " <div class=\"flex-auto\">\n",
              " <p class=\"f3 lh-condensed mb-0 mt-1 Link--primary\">Clojure</p>\n",
              " <p class=\"f5 color-text-secondary mb-0 mt-1\">\n",
              "               Clojure is a dynamic, general-purpose programming language.\n",
              "             </p>\n",
              " </div>\n",
              " <div class=\"d-inline-block js-toggler-container starring-container\">\n",
              " <a aria-label=\"You must be signed in to star a topic\" class=\"btn btn-sm d-flex flex-items-center\" data-ga-click=\"Explore, click star button when signed out,\n",
              "         action:topics#index;\n",
              "         text:Star\" href=\"/login?return_to=%2Ftopics%2Fclojure\" title=\"You must be signed in to star a topic\">\n",
              " <svg aria-hidden=\"true\" class=\"octicon octicon-star mr-1\" height=\"16\" version=\"1.1\" viewbox=\"0 0 16 16\" width=\"16\"><path d=\"M8 .25a.75.75 0 01.673.418l1.882 3.815 4.21.612a.75.75 0 01.416 1.279l-3.046 2.97.719 4.192a.75.75 0 01-1.088.791L8 12.347l-3.766 1.98a.75.75 0 01-1.088-.79l.72-4.194L.818 6.374a.75.75 0 01.416-1.28l4.21-.611L7.327.668A.75.75 0 018 .25zm0 2.445L6.615 5.5a.75.75 0 01-.564.41l-3.097.45 2.24 2.184a.75.75 0 01.216.664l-.528 3.084 2.769-1.456a.75.75 0 01.698 0l2.77 1.456-.53-3.084a.75.75 0 01.216-.664l2.24-2.183-3.096-.45a.75.75 0 01-.564-.41L8 2.694v.001z\" fill-rule=\"evenodd\"></path></svg>Star\n",
              "     </a>\n",
              " </div>\n",
              " </div>\n",
              " </a>,\n",
              " <a class=\"d-flex no-underline\" data-ga-click=\"Explore, go to code-quality, location:All featured topics\" href=\"/topics/code-quality\">\n",
              " <div class=\"color-bg-info f4 color-text-tertiary text-bold rounded mr-3 flex-shrink-0 text-center\" style=\"width:64px; height:64px; line-height:64px;\">\n",
              "             #\n",
              "           </div>\n",
              " <div class=\"d-sm-flex flex-auto\">\n",
              " <div class=\"flex-auto\">\n",
              " <p class=\"f3 lh-condensed mb-0 mt-1 Link--primary\">Code quality</p>\n",
              " <p class=\"f5 color-text-secondary mb-0 mt-1\">\n",
              "               Automate your code review with style, quality, security, and test‑coverage checks when you need them.\n",
              "             </p>\n",
              " </div>\n",
              " <div class=\"d-inline-block js-toggler-container starring-container\">\n",
              " <a aria-label=\"You must be signed in to star a topic\" class=\"btn btn-sm d-flex flex-items-center\" data-ga-click=\"Explore, click star button when signed out,\n",
              "         action:topics#index;\n",
              "         text:Star\" href=\"/login?return_to=%2Ftopics%2Fcode-quality\" title=\"You must be signed in to star a topic\">\n",
              " <svg aria-hidden=\"true\" class=\"octicon octicon-star mr-1\" height=\"16\" version=\"1.1\" viewbox=\"0 0 16 16\" width=\"16\"><path d=\"M8 .25a.75.75 0 01.673.418l1.882 3.815 4.21.612a.75.75 0 01.416 1.279l-3.046 2.97.719 4.192a.75.75 0 01-1.088.791L8 12.347l-3.766 1.98a.75.75 0 01-1.088-.79l.72-4.194L.818 6.374a.75.75 0 01.416-1.28l4.21-.611L7.327.668A.75.75 0 018 .25zm0 2.445L6.615 5.5a.75.75 0 01-.564.41l-3.097.45 2.24 2.184a.75.75 0 01.216.664l-.528 3.084 2.769-1.456a.75.75 0 01.698 0l2.77 1.456-.53-3.084a.75.75 0 01.216-.664l2.24-2.183-3.096-.45a.75.75 0 01-.564-.41L8 2.694v.001z\" fill-rule=\"evenodd\"></path></svg>Star\n",
              "     </a>\n",
              " </div>\n",
              " </div>\n",
              " </a>,\n",
              " <a class=\"d-flex no-underline\" data-ga-click=\"Explore, go to code-review, location:All featured topics\" href=\"/topics/code-review\">\n",
              " <div class=\"color-bg-info f4 color-text-tertiary text-bold rounded mr-3 flex-shrink-0 text-center\" style=\"width:64px; height:64px; line-height:64px;\">\n",
              "             #\n",
              "           </div>\n",
              " <div class=\"d-sm-flex flex-auto\">\n",
              " <div class=\"flex-auto\">\n",
              " <p class=\"f3 lh-condensed mb-0 mt-1 Link--primary\">Code review</p>\n",
              " <p class=\"f5 color-text-secondary mb-0 mt-1\">\n",
              "               Ensure your code meets quality standards and ship with confidence.\n",
              "             </p>\n",
              " </div>\n",
              " <div class=\"d-inline-block js-toggler-container starring-container\">\n",
              " <a aria-label=\"You must be signed in to star a topic\" class=\"btn btn-sm d-flex flex-items-center\" data-ga-click=\"Explore, click star button when signed out,\n",
              "         action:topics#index;\n",
              "         text:Star\" href=\"/login?return_to=%2Ftopics%2Fcode-review\" title=\"You must be signed in to star a topic\">\n",
              " <svg aria-hidden=\"true\" class=\"octicon octicon-star mr-1\" height=\"16\" version=\"1.1\" viewbox=\"0 0 16 16\" width=\"16\"><path d=\"M8 .25a.75.75 0 01.673.418l1.882 3.815 4.21.612a.75.75 0 01.416 1.279l-3.046 2.97.719 4.192a.75.75 0 01-1.088.791L8 12.347l-3.766 1.98a.75.75 0 01-1.088-.79l.72-4.194L.818 6.374a.75.75 0 01.416-1.28l4.21-.611L7.327.668A.75.75 0 018 .25zm0 2.445L6.615 5.5a.75.75 0 01-.564.41l-3.097.45 2.24 2.184a.75.75 0 01.216.664l-.528 3.084 2.769-1.456a.75.75 0 01.698 0l2.77 1.456-.53-3.084a.75.75 0 01.216-.664l2.24-2.183-3.096-.45a.75.75 0 01-.564-.41L8 2.694v.001z\" fill-rule=\"evenodd\"></path></svg>Star\n",
              "     </a>\n",
              " </div>\n",
              " </div>\n",
              " </a>,\n",
              " <a class=\"d-flex no-underline\" data-ga-click=\"Explore, go to compiler, location:All featured topics\" href=\"/topics/compiler\">\n",
              " <div class=\"color-bg-info f4 color-text-tertiary text-bold rounded mr-3 flex-shrink-0 text-center\" style=\"width:64px; height:64px; line-height:64px;\">\n",
              "             #\n",
              "           </div>\n",
              " <div class=\"d-sm-flex flex-auto\">\n",
              " <div class=\"flex-auto\">\n",
              " <p class=\"f3 lh-condensed mb-0 mt-1 Link--primary\">Compiler</p>\n",
              " <p class=\"f5 color-text-secondary mb-0 mt-1\">\n",
              "               Compilers are software that translate higher-level programming languages to lower-level languages (e.g. machine code).\n",
              "             </p>\n",
              " </div>\n",
              " <div class=\"d-inline-block js-toggler-container starring-container\">\n",
              " <a aria-label=\"You must be signed in to star a topic\" class=\"btn btn-sm d-flex flex-items-center\" data-ga-click=\"Explore, click star button when signed out,\n",
              "         action:topics#index;\n",
              "         text:Star\" href=\"/login?return_to=%2Ftopics%2Fcompiler\" title=\"You must be signed in to star a topic\">\n",
              " <svg aria-hidden=\"true\" class=\"octicon octicon-star mr-1\" height=\"16\" version=\"1.1\" viewbox=\"0 0 16 16\" width=\"16\"><path d=\"M8 .25a.75.75 0 01.673.418l1.882 3.815 4.21.612a.75.75 0 01.416 1.279l-3.046 2.97.719 4.192a.75.75 0 01-1.088.791L8 12.347l-3.766 1.98a.75.75 0 01-1.088-.79l.72-4.194L.818 6.374a.75.75 0 01.416-1.28l4.21-.611L7.327.668A.75.75 0 018 .25zm0 2.445L6.615 5.5a.75.75 0 01-.564.41l-3.097.45 2.24 2.184a.75.75 0 01.216.664l-.528 3.084 2.769-1.456a.75.75 0 01.698 0l2.77 1.456-.53-3.084a.75.75 0 01.216-.664l2.24-2.183-3.096-.45a.75.75 0 01-.564-.41L8 2.694v.001z\" fill-rule=\"evenodd\"></path></svg>Star\n",
              "     </a>\n",
              " </div>\n",
              " </div>\n",
              " </a>,\n",
              " <a class=\"d-flex no-underline\" data-ga-click=\"Explore, go to continuous-integration, location:All featured topics\" href=\"/topics/continuous-integration\">\n",
              " <div class=\"color-bg-info f4 color-text-tertiary text-bold rounded mr-3 flex-shrink-0 text-center\" style=\"width:64px; height:64px; line-height:64px;\">\n",
              "             #\n",
              "           </div>\n",
              " <div class=\"d-sm-flex flex-auto\">\n",
              " <div class=\"flex-auto\">\n",
              " <p class=\"f3 lh-condensed mb-0 mt-1 Link--primary\">Continuous integration</p>\n",
              " <p class=\"f5 color-text-secondary mb-0 mt-1\">\n",
              "               Automatically build and test your code as you push it upstream, preventing bugs from being deployed to production.\n",
              "             </p>\n",
              " </div>\n",
              " <div class=\"d-inline-block js-toggler-container starring-container\">\n",
              " <a aria-label=\"You must be signed in to star a topic\" class=\"btn btn-sm d-flex flex-items-center\" data-ga-click=\"Explore, click star button when signed out,\n",
              "         action:topics#index;\n",
              "         text:Star\" href=\"/login?return_to=%2Ftopics%2Fcontinuous-integration\" title=\"You must be signed in to star a topic\">\n",
              " <svg aria-hidden=\"true\" class=\"octicon octicon-star mr-1\" height=\"16\" version=\"1.1\" viewbox=\"0 0 16 16\" width=\"16\"><path d=\"M8 .25a.75.75 0 01.673.418l1.882 3.815 4.21.612a.75.75 0 01.416 1.279l-3.046 2.97.719 4.192a.75.75 0 01-1.088.791L8 12.347l-3.766 1.98a.75.75 0 01-1.088-.79l.72-4.194L.818 6.374a.75.75 0 01.416-1.28l4.21-.611L7.327.668A.75.75 0 018 .25zm0 2.445L6.615 5.5a.75.75 0 01-.564.41l-3.097.45 2.24 2.184a.75.75 0 01.216.664l-.528 3.084 2.769-1.456a.75.75 0 01.698 0l2.77 1.456-.53-3.084a.75.75 0 01.216-.664l2.24-2.183-3.096-.45a.75.75 0 01-.564-.41L8 2.694v.001z\" fill-rule=\"evenodd\"></path></svg>Star\n",
              "     </a>\n",
              " </div>\n",
              " </div>\n",
              " </a>,\n",
              " <a class=\"d-flex no-underline\" data-ga-click=\"Explore, go to covid-19, location:All featured topics\" href=\"/topics/covid-19\">\n",
              " <img alt=\"covid-19\" class=\"rounded mr-3\" height=\"64\" src=\"https://raw.githubusercontent.com/github/explore/af16e074f93c080d7b283815787283cab0e9414b/topics/covid-19/covid-19.png\" width=\"64\"/>\n",
              " <div class=\"d-sm-flex flex-auto\">\n",
              " <div class=\"flex-auto\">\n",
              " <p class=\"f3 lh-condensed mb-0 mt-1 Link--primary\">COVID-19</p>\n",
              " <p class=\"f5 color-text-secondary mb-0 mt-1\">\n",
              "               The coronavirus disease 2019 (COVID-19) is an infectious disease caused by SARS-CoV-2.\n",
              "             </p>\n",
              " </div>\n",
              " <div class=\"d-inline-block js-toggler-container starring-container\">\n",
              " <a aria-label=\"You must be signed in to star a topic\" class=\"btn btn-sm d-flex flex-items-center\" data-ga-click=\"Explore, click star button when signed out,\n",
              "         action:topics#index;\n",
              "         text:Star\" href=\"/login?return_to=%2Ftopics%2Fcovid-19\" title=\"You must be signed in to star a topic\">\n",
              " <svg aria-hidden=\"true\" class=\"octicon octicon-star mr-1\" height=\"16\" version=\"1.1\" viewbox=\"0 0 16 16\" width=\"16\"><path d=\"M8 .25a.75.75 0 01.673.418l1.882 3.815 4.21.612a.75.75 0 01.416 1.279l-3.046 2.97.719 4.192a.75.75 0 01-1.088.791L8 12.347l-3.766 1.98a.75.75 0 01-1.088-.79l.72-4.194L.818 6.374a.75.75 0 01.416-1.28l4.21-.611L7.327.668A.75.75 0 018 .25zm0 2.445L6.615 5.5a.75.75 0 01-.564.41l-3.097.45 2.24 2.184a.75.75 0 01.216.664l-.528 3.084 2.769-1.456a.75.75 0 01.698 0l2.77 1.456-.53-3.084a.75.75 0 01.216-.664l2.24-2.183-3.096-.45a.75.75 0 01-.564-.41L8 2.694v.001z\" fill-rule=\"evenodd\"></path></svg>Star\n",
              "     </a>\n",
              " </div>\n",
              " </div>\n",
              " </a>,\n",
              " <a class=\"d-flex no-underline\" data-ga-click=\"Explore, go to cpp, location:All featured topics\" href=\"/topics/cpp\">\n",
              " <img alt=\"cpp\" class=\"rounded mr-3\" height=\"64\" src=\"https://raw.githubusercontent.com/github/explore/80688e429a7d4ef2fca1e82350fe8e3517d3494d/topics/cpp/cpp.png\" width=\"64\"/>\n",
              " <div class=\"d-sm-flex flex-auto\">\n",
              " <div class=\"flex-auto\">\n",
              " <p class=\"f3 lh-condensed mb-0 mt-1 Link--primary\">C++</p>\n",
              " <p class=\"f5 color-text-secondary mb-0 mt-1\">\n",
              "               C++ is a general purpose and object-oriented programming language.\n",
              "             </p>\n",
              " </div>\n",
              " <div class=\"d-inline-block js-toggler-container starring-container\">\n",
              " <a aria-label=\"You must be signed in to star a topic\" class=\"btn btn-sm d-flex flex-items-center\" data-ga-click=\"Explore, click star button when signed out,\n",
              "         action:topics#index;\n",
              "         text:Star\" href=\"/login?return_to=%2Ftopics%2Fcpp\" title=\"You must be signed in to star a topic\">\n",
              " <svg aria-hidden=\"true\" class=\"octicon octicon-star mr-1\" height=\"16\" version=\"1.1\" viewbox=\"0 0 16 16\" width=\"16\"><path d=\"M8 .25a.75.75 0 01.673.418l1.882 3.815 4.21.612a.75.75 0 01.416 1.279l-3.046 2.97.719 4.192a.75.75 0 01-1.088.791L8 12.347l-3.766 1.98a.75.75 0 01-1.088-.79l.72-4.194L.818 6.374a.75.75 0 01.416-1.28l4.21-.611L7.327.668A.75.75 0 018 .25zm0 2.445L6.615 5.5a.75.75 0 01-.564.41l-3.097.45 2.24 2.184a.75.75 0 01.216.664l-.528 3.084 2.769-1.456a.75.75 0 01.698 0l2.77 1.456-.53-3.084a.75.75 0 01.216-.664l2.24-2.183-3.096-.45a.75.75 0 01-.564-.41L8 2.694v.001z\" fill-rule=\"evenodd\"></path></svg>Star\n",
              "     </a>\n",
              " </div>\n",
              " </div>\n",
              " </a>]"
            ]
          },
          "execution_count": 34,
          "metadata": {},
          "output_type": "execute_result"
        }
      ],
      "source": [
        "a_tags"
      ]
    },
    {
      "cell_type": "code",
      "execution_count": null,
      "id": "chemical-attendance",
      "metadata": {
        "id": "chemical-attendance",
        "outputId": "7b4009d3-6a02-4026-8e55-7f649790e062"
      },
      "outputs": [
        {
          "data": {
            "text/plain": [
              "<a class=\"d-flex no-underline\" data-ga-click=\"Explore, go to 3d, location:All featured topics\" href=\"/topics/3d\">\n",
              "<div class=\"color-bg-info f4 color-text-tertiary text-bold rounded mr-3 flex-shrink-0 text-center\" style=\"width:64px; height:64px; line-height:64px;\">\n",
              "            #\n",
              "          </div>\n",
              "<div class=\"d-sm-flex flex-auto\">\n",
              "<div class=\"flex-auto\">\n",
              "<p class=\"f3 lh-condensed mb-0 mt-1 Link--primary\">3D</p>\n",
              "<p class=\"f5 color-text-secondary mb-0 mt-1\">\n",
              "              3D modeling is the process of virtually developing the surface and structure of a 3D object.\n",
              "            </p>\n",
              "</div>\n",
              "<div class=\"d-inline-block js-toggler-container starring-container\">\n",
              "<a aria-label=\"You must be signed in to star a topic\" class=\"btn btn-sm d-flex flex-items-center\" data-ga-click=\"Explore, click star button when signed out,\n",
              "        action:topics#index;\n",
              "        text:Star\" href=\"/login?return_to=%2Ftopics%2F3d\" title=\"You must be signed in to star a topic\">\n",
              "<svg aria-hidden=\"true\" class=\"octicon octicon-star mr-1\" height=\"16\" version=\"1.1\" viewbox=\"0 0 16 16\" width=\"16\"><path d=\"M8 .25a.75.75 0 01.673.418l1.882 3.815 4.21.612a.75.75 0 01.416 1.279l-3.046 2.97.719 4.192a.75.75 0 01-1.088.791L8 12.347l-3.766 1.98a.75.75 0 01-1.088-.79l.72-4.194L.818 6.374a.75.75 0 01.416-1.28l4.21-.611L7.327.668A.75.75 0 018 .25zm0 2.445L6.615 5.5a.75.75 0 01-.564.41l-3.097.45 2.24 2.184a.75.75 0 01.216.664l-.528 3.084 2.769-1.456a.75.75 0 01.698 0l2.77 1.456-.53-3.084a.75.75 0 01.216-.664l2.24-2.183-3.096-.45a.75.75 0 01-.564-.41L8 2.694v.001z\" fill-rule=\"evenodd\"></path></svg>Star\n",
              "    </a>\n",
              "</div>\n",
              "</div>\n",
              "</a>"
            ]
          },
          "execution_count": 35,
          "metadata": {},
          "output_type": "execute_result"
        }
      ],
      "source": [
        "a_tags[0]"
      ]
    },
    {
      "cell_type": "code",
      "execution_count": null,
      "id": "intellectual-territory",
      "metadata": {
        "id": "intellectual-territory",
        "outputId": "2b671802-5524-4413-e1b3-ce58b691cfbf"
      },
      "outputs": [
        {
          "data": {
            "text/plain": [
              "'/topics/3d'"
            ]
          },
          "execution_count": 36,
          "metadata": {},
          "output_type": "execute_result"
        }
      ],
      "source": [
        "a_tags[0]['href']"
      ]
    },
    {
      "cell_type": "code",
      "execution_count": null,
      "id": "outside-massachusetts",
      "metadata": {
        "id": "outside-massachusetts",
        "outputId": "17a08329-85e2-4f7e-eadd-0364aa2ce03b"
      },
      "outputs": [
        {
          "data": {
            "text/plain": [
              "'https://github.com/topics/3d'"
            ]
          },
          "execution_count": 37,
          "metadata": {},
          "output_type": "execute_result"
        }
      ],
      "source": [
        "'https://github.com' + a_tags[0]['href']"
      ]
    },
    {
      "cell_type": "code",
      "execution_count": null,
      "id": "heavy-experience",
      "metadata": {
        "id": "heavy-experience",
        "outputId": "5e81a775-ab61-4fa9-8b1a-a3cc96c90398"
      },
      "outputs": [
        {
          "data": {
            "text/plain": [
              "['https://github.com/topics/3d',\n",
              " 'https://github.com/topics/ajax',\n",
              " 'https://github.com/topics/algorithm',\n",
              " 'https://github.com/topics/amphp',\n",
              " 'https://github.com/topics/android',\n",
              " 'https://github.com/topics/angular',\n",
              " 'https://github.com/topics/ansible',\n",
              " 'https://github.com/topics/api',\n",
              " 'https://github.com/topics/arduino',\n",
              " 'https://github.com/topics/aspnet',\n",
              " 'https://github.com/topics/atom',\n",
              " 'https://github.com/topics/awesome',\n",
              " 'https://github.com/topics/aws',\n",
              " 'https://github.com/topics/azure',\n",
              " 'https://github.com/topics/babel',\n",
              " 'https://github.com/topics/bash',\n",
              " 'https://github.com/topics/bitcoin',\n",
              " 'https://github.com/topics/bootstrap',\n",
              " 'https://github.com/topics/bot',\n",
              " 'https://github.com/topics/c',\n",
              " 'https://github.com/topics/chrome',\n",
              " 'https://github.com/topics/chrome-extension',\n",
              " 'https://github.com/topics/cli',\n",
              " 'https://github.com/topics/clojure',\n",
              " 'https://github.com/topics/code-quality',\n",
              " 'https://github.com/topics/code-review',\n",
              " 'https://github.com/topics/compiler',\n",
              " 'https://github.com/topics/continuous-integration',\n",
              " 'https://github.com/topics/covid-19',\n",
              " 'https://github.com/topics/cpp']"
            ]
          },
          "execution_count": 38,
          "metadata": {},
          "output_type": "execute_result"
        }
      ],
      "source": [
        "urls = []\n",
        "for tags in a_tags:\n",
        "    urls.append('https://github.com' + tags['href'])\n",
        "urls"
      ]
    },
    {
      "cell_type": "code",
      "execution_count": null,
      "id": "successful-employment",
      "metadata": {
        "id": "successful-employment",
        "outputId": "88f3722e-3e48-494d-cd55-2b5f2b77b23a"
      },
      "outputs": [
        {
          "name": "stdout",
          "output_type": "stream",
          "text": [
            "Requirement already satisfied: pandas in /Users/aakashns/miniconda3/envs/zerotoanalyst/lib/python3.6/site-packages (1.1.5)\n",
            "Requirement already satisfied: numpy>=1.15.4 in /Users/aakashns/miniconda3/envs/zerotoanalyst/lib/python3.6/site-packages (from pandas) (1.19.5)\n",
            "Requirement already satisfied: pytz>=2017.2 in /Users/aakashns/miniconda3/envs/zerotoanalyst/lib/python3.6/site-packages (from pandas) (2021.1)\n",
            "Requirement already satisfied: python-dateutil>=2.7.3 in /Users/aakashns/miniconda3/envs/zerotoanalyst/lib/python3.6/site-packages (from pandas) (2.8.1)\n",
            "Requirement already satisfied: six>=1.5 in /Users/aakashns/miniconda3/envs/zerotoanalyst/lib/python3.6/site-packages (from python-dateutil>=2.7.3->pandas) (1.15.0)\n"
          ]
        }
      ],
      "source": [
        "!pip install pandas --upgrade"
      ]
    },
    {
      "cell_type": "code",
      "execution_count": null,
      "id": "derived-wells",
      "metadata": {
        "id": "derived-wells"
      },
      "outputs": [],
      "source": [
        "import pandas as pd"
      ]
    },
    {
      "cell_type": "code",
      "execution_count": null,
      "id": "overhead-quest",
      "metadata": {
        "id": "overhead-quest"
      },
      "outputs": [],
      "source": [
        "data = {\n",
        "    'title': titles,\n",
        "    'description': desc,\n",
        "    'url': urls\n",
        "}"
      ]
    },
    {
      "cell_type": "code",
      "execution_count": null,
      "id": "south-tucson",
      "metadata": {
        "id": "south-tucson",
        "outputId": "be0165fd-1729-4d3d-ca2e-a573dccbfe19"
      },
      "outputs": [
        {
          "data": {
            "text/plain": [
              "{'title': ['3D',\n",
              "  'Ajax',\n",
              "  'Algorithm',\n",
              "  'Amp',\n",
              "  'Android',\n",
              "  'Angular',\n",
              "  'Ansible',\n",
              "  'API',\n",
              "  'Arduino',\n",
              "  'ASP.NET',\n",
              "  'Atom',\n",
              "  'Awesome Lists',\n",
              "  'Amazon Web Services',\n",
              "  'Azure',\n",
              "  'Babel',\n",
              "  'Bash',\n",
              "  'Bitcoin',\n",
              "  'Bootstrap',\n",
              "  'Bot',\n",
              "  'C',\n",
              "  'Chrome',\n",
              "  'Chrome extension',\n",
              "  'Command line interface',\n",
              "  'Clojure',\n",
              "  'Code quality',\n",
              "  'Code review',\n",
              "  'Compiler',\n",
              "  'Continuous integration',\n",
              "  'COVID-19',\n",
              "  'C++'],\n",
              " 'description': ['3D modeling is the process of virtually developing the surface and structure of a 3D object.',\n",
              "  'Ajax is a technique for creating interactive web applications.',\n",
              "  'Algorithms are self-contained sequences that carry out a variety of tasks.',\n",
              "  'Amp is a non-blocking concurrency framework for PHP.',\n",
              "  'Android is an operating system built by Google designed for mobile devices.',\n",
              "  'Angular is an open source web application platform.',\n",
              "  'Ansible is a simple and powerful automation engine.',\n",
              "  'An API (Application Programming Interface) is a collection of protocols and subroutines for building software.',\n",
              "  'Arduino is an open source hardware and software company and maker community.',\n",
              "  'ASP.NET is a web framework for building modern web apps and services.',\n",
              "  'Atom is a open source text editor built with web technologies.',\n",
              "  'An awesome list is a list of awesome things curated by the community.',\n",
              "  'Amazon Web Services provides on-demand cloud computing platforms on a subscription basis.',\n",
              "  'Azure is a cloud computing service created by Microsoft.',\n",
              "  'Babel is a compiler for writing next generation JavaScript, today.',\n",
              "  'Bash is a shell and command language interpreter for the GNU operating system.',\n",
              "  'Bitcoin is a cryptocurrency developed by Satoshi Nakamoto.',\n",
              "  'Bootstrap is an HTML, CSS, and JavaScript framework.',\n",
              "  'A bot is an application that runs automated tasks over the Internet.',\n",
              "  'C is a general purpose programming language that first appeared in 1972.',\n",
              "  'Chrome is a web browser from the tech company Google.',\n",
              "  'Google Chrome Extensions are add-ons that allow users to customize their Chrome web browser.',\n",
              "  'A CLI, or command-line interface, is a console that helps users issue commands to a program.',\n",
              "  'Clojure is a dynamic, general-purpose programming language.',\n",
              "  'Automate your code review with style, quality, security, and test‑coverage checks when you need them.',\n",
              "  'Ensure your code meets quality standards and ship with confidence.',\n",
              "  'Compilers are software that translate higher-level programming languages to lower-level languages (e.g. machine code).',\n",
              "  'Automatically build and test your code as you push it upstream, preventing bugs from being deployed to production.',\n",
              "  'The coronavirus disease 2019 (COVID-19) is an infectious disease caused by SARS-CoV-2.',\n",
              "  'C++ is a general purpose and object-oriented programming language.'],\n",
              " 'url': ['https://github.com/topics/3d',\n",
              "  'https://github.com/topics/ajax',\n",
              "  'https://github.com/topics/algorithm',\n",
              "  'https://github.com/topics/amphp',\n",
              "  'https://github.com/topics/android',\n",
              "  'https://github.com/topics/angular',\n",
              "  'https://github.com/topics/ansible',\n",
              "  'https://github.com/topics/api',\n",
              "  'https://github.com/topics/arduino',\n",
              "  'https://github.com/topics/aspnet',\n",
              "  'https://github.com/topics/atom',\n",
              "  'https://github.com/topics/awesome',\n",
              "  'https://github.com/topics/aws',\n",
              "  'https://github.com/topics/azure',\n",
              "  'https://github.com/topics/babel',\n",
              "  'https://github.com/topics/bash',\n",
              "  'https://github.com/topics/bitcoin',\n",
              "  'https://github.com/topics/bootstrap',\n",
              "  'https://github.com/topics/bot',\n",
              "  'https://github.com/topics/c',\n",
              "  'https://github.com/topics/chrome',\n",
              "  'https://github.com/topics/chrome-extension',\n",
              "  'https://github.com/topics/cli',\n",
              "  'https://github.com/topics/clojure',\n",
              "  'https://github.com/topics/code-quality',\n",
              "  'https://github.com/topics/code-review',\n",
              "  'https://github.com/topics/compiler',\n",
              "  'https://github.com/topics/continuous-integration',\n",
              "  'https://github.com/topics/covid-19',\n",
              "  'https://github.com/topics/cpp']}"
            ]
          },
          "execution_count": 43,
          "metadata": {},
          "output_type": "execute_result"
        }
      ],
      "source": [
        "data"
      ]
    },
    {
      "cell_type": "code",
      "execution_count": null,
      "id": "flush-donor",
      "metadata": {
        "id": "flush-donor"
      },
      "outputs": [],
      "source": [
        "df = pd.DataFrame(data)"
      ]
    },
    {
      "cell_type": "code",
      "execution_count": null,
      "id": "neutral-cleaning",
      "metadata": {
        "id": "neutral-cleaning",
        "outputId": "9e9febe4-af7b-4094-fdaa-7625d306e367"
      },
      "outputs": [
        {
          "data": {
            "text/html": [
              "<div>\n",
              "<style scoped>\n",
              "    .dataframe tbody tr th:only-of-type {\n",
              "        vertical-align: middle;\n",
              "    }\n",
              "\n",
              "    .dataframe tbody tr th {\n",
              "        vertical-align: top;\n",
              "    }\n",
              "\n",
              "    .dataframe thead th {\n",
              "        text-align: right;\n",
              "    }\n",
              "</style>\n",
              "<table border=\"1\" class=\"dataframe\">\n",
              "  <thead>\n",
              "    <tr style=\"text-align: right;\">\n",
              "      <th></th>\n",
              "      <th>title</th>\n",
              "      <th>description</th>\n",
              "      <th>url</th>\n",
              "    </tr>\n",
              "  </thead>\n",
              "  <tbody>\n",
              "    <tr>\n",
              "      <th>0</th>\n",
              "      <td>3D</td>\n",
              "      <td>3D modeling is the process of virtually develo...</td>\n",
              "      <td>https://github.com/topics/3d</td>\n",
              "    </tr>\n",
              "    <tr>\n",
              "      <th>1</th>\n",
              "      <td>Ajax</td>\n",
              "      <td>Ajax is a technique for creating interactive w...</td>\n",
              "      <td>https://github.com/topics/ajax</td>\n",
              "    </tr>\n",
              "    <tr>\n",
              "      <th>2</th>\n",
              "      <td>Algorithm</td>\n",
              "      <td>Algorithms are self-contained sequences that c...</td>\n",
              "      <td>https://github.com/topics/algorithm</td>\n",
              "    </tr>\n",
              "    <tr>\n",
              "      <th>3</th>\n",
              "      <td>Amp</td>\n",
              "      <td>Amp is a non-blocking concurrency framework fo...</td>\n",
              "      <td>https://github.com/topics/amphp</td>\n",
              "    </tr>\n",
              "    <tr>\n",
              "      <th>4</th>\n",
              "      <td>Android</td>\n",
              "      <td>Android is an operating system built by Google...</td>\n",
              "      <td>https://github.com/topics/android</td>\n",
              "    </tr>\n",
              "    <tr>\n",
              "      <th>5</th>\n",
              "      <td>Angular</td>\n",
              "      <td>Angular is an open source web application plat...</td>\n",
              "      <td>https://github.com/topics/angular</td>\n",
              "    </tr>\n",
              "    <tr>\n",
              "      <th>6</th>\n",
              "      <td>Ansible</td>\n",
              "      <td>Ansible is a simple and powerful automation en...</td>\n",
              "      <td>https://github.com/topics/ansible</td>\n",
              "    </tr>\n",
              "    <tr>\n",
              "      <th>7</th>\n",
              "      <td>API</td>\n",
              "      <td>An API (Application Programming Interface) is ...</td>\n",
              "      <td>https://github.com/topics/api</td>\n",
              "    </tr>\n",
              "    <tr>\n",
              "      <th>8</th>\n",
              "      <td>Arduino</td>\n",
              "      <td>Arduino is an open source hardware and softwar...</td>\n",
              "      <td>https://github.com/topics/arduino</td>\n",
              "    </tr>\n",
              "    <tr>\n",
              "      <th>9</th>\n",
              "      <td>ASP.NET</td>\n",
              "      <td>ASP.NET is a web framework for building modern...</td>\n",
              "      <td>https://github.com/topics/aspnet</td>\n",
              "    </tr>\n",
              "    <tr>\n",
              "      <th>10</th>\n",
              "      <td>Atom</td>\n",
              "      <td>Atom is a open source text editor built with w...</td>\n",
              "      <td>https://github.com/topics/atom</td>\n",
              "    </tr>\n",
              "    <tr>\n",
              "      <th>11</th>\n",
              "      <td>Awesome Lists</td>\n",
              "      <td>An awesome list is a list of awesome things cu...</td>\n",
              "      <td>https://github.com/topics/awesome</td>\n",
              "    </tr>\n",
              "    <tr>\n",
              "      <th>12</th>\n",
              "      <td>Amazon Web Services</td>\n",
              "      <td>Amazon Web Services provides on-demand cloud c...</td>\n",
              "      <td>https://github.com/topics/aws</td>\n",
              "    </tr>\n",
              "    <tr>\n",
              "      <th>13</th>\n",
              "      <td>Azure</td>\n",
              "      <td>Azure is a cloud computing service created by ...</td>\n",
              "      <td>https://github.com/topics/azure</td>\n",
              "    </tr>\n",
              "    <tr>\n",
              "      <th>14</th>\n",
              "      <td>Babel</td>\n",
              "      <td>Babel is a compiler for writing next generatio...</td>\n",
              "      <td>https://github.com/topics/babel</td>\n",
              "    </tr>\n",
              "    <tr>\n",
              "      <th>15</th>\n",
              "      <td>Bash</td>\n",
              "      <td>Bash is a shell and command language interpret...</td>\n",
              "      <td>https://github.com/topics/bash</td>\n",
              "    </tr>\n",
              "    <tr>\n",
              "      <th>16</th>\n",
              "      <td>Bitcoin</td>\n",
              "      <td>Bitcoin is a cryptocurrency developed by Satos...</td>\n",
              "      <td>https://github.com/topics/bitcoin</td>\n",
              "    </tr>\n",
              "    <tr>\n",
              "      <th>17</th>\n",
              "      <td>Bootstrap</td>\n",
              "      <td>Bootstrap is an HTML, CSS, and JavaScript fram...</td>\n",
              "      <td>https://github.com/topics/bootstrap</td>\n",
              "    </tr>\n",
              "    <tr>\n",
              "      <th>18</th>\n",
              "      <td>Bot</td>\n",
              "      <td>A bot is an application that runs automated ta...</td>\n",
              "      <td>https://github.com/topics/bot</td>\n",
              "    </tr>\n",
              "    <tr>\n",
              "      <th>19</th>\n",
              "      <td>C</td>\n",
              "      <td>C is a general purpose programming language th...</td>\n",
              "      <td>https://github.com/topics/c</td>\n",
              "    </tr>\n",
              "    <tr>\n",
              "      <th>20</th>\n",
              "      <td>Chrome</td>\n",
              "      <td>Chrome is a web browser from the tech company ...</td>\n",
              "      <td>https://github.com/topics/chrome</td>\n",
              "    </tr>\n",
              "    <tr>\n",
              "      <th>21</th>\n",
              "      <td>Chrome extension</td>\n",
              "      <td>Google Chrome Extensions are add-ons that allo...</td>\n",
              "      <td>https://github.com/topics/chrome-extension</td>\n",
              "    </tr>\n",
              "    <tr>\n",
              "      <th>22</th>\n",
              "      <td>Command line interface</td>\n",
              "      <td>A CLI, or command-line interface, is a console...</td>\n",
              "      <td>https://github.com/topics/cli</td>\n",
              "    </tr>\n",
              "    <tr>\n",
              "      <th>23</th>\n",
              "      <td>Clojure</td>\n",
              "      <td>Clojure is a dynamic, general-purpose programm...</td>\n",
              "      <td>https://github.com/topics/clojure</td>\n",
              "    </tr>\n",
              "    <tr>\n",
              "      <th>24</th>\n",
              "      <td>Code quality</td>\n",
              "      <td>Automate your code review with style, quality,...</td>\n",
              "      <td>https://github.com/topics/code-quality</td>\n",
              "    </tr>\n",
              "    <tr>\n",
              "      <th>25</th>\n",
              "      <td>Code review</td>\n",
              "      <td>Ensure your code meets quality standards and s...</td>\n",
              "      <td>https://github.com/topics/code-review</td>\n",
              "    </tr>\n",
              "    <tr>\n",
              "      <th>26</th>\n",
              "      <td>Compiler</td>\n",
              "      <td>Compilers are software that translate higher-l...</td>\n",
              "      <td>https://github.com/topics/compiler</td>\n",
              "    </tr>\n",
              "    <tr>\n",
              "      <th>27</th>\n",
              "      <td>Continuous integration</td>\n",
              "      <td>Automatically build and test your code as you ...</td>\n",
              "      <td>https://github.com/topics/continuous-integration</td>\n",
              "    </tr>\n",
              "    <tr>\n",
              "      <th>28</th>\n",
              "      <td>COVID-19</td>\n",
              "      <td>The coronavirus disease 2019 (COVID-19) is an ...</td>\n",
              "      <td>https://github.com/topics/covid-19</td>\n",
              "    </tr>\n",
              "    <tr>\n",
              "      <th>29</th>\n",
              "      <td>C++</td>\n",
              "      <td>C++ is a general purpose and object-oriented p...</td>\n",
              "      <td>https://github.com/topics/cpp</td>\n",
              "    </tr>\n",
              "  </tbody>\n",
              "</table>\n",
              "</div>"
            ],
            "text/plain": [
              "                     title                                        description  \\\n",
              "0                       3D  3D modeling is the process of virtually develo...   \n",
              "1                     Ajax  Ajax is a technique for creating interactive w...   \n",
              "2                Algorithm  Algorithms are self-contained sequences that c...   \n",
              "3                      Amp  Amp is a non-blocking concurrency framework fo...   \n",
              "4                  Android  Android is an operating system built by Google...   \n",
              "5                  Angular  Angular is an open source web application plat...   \n",
              "6                  Ansible  Ansible is a simple and powerful automation en...   \n",
              "7                      API  An API (Application Programming Interface) is ...   \n",
              "8                  Arduino  Arduino is an open source hardware and softwar...   \n",
              "9                  ASP.NET  ASP.NET is a web framework for building modern...   \n",
              "10                    Atom  Atom is a open source text editor built with w...   \n",
              "11           Awesome Lists  An awesome list is a list of awesome things cu...   \n",
              "12     Amazon Web Services  Amazon Web Services provides on-demand cloud c...   \n",
              "13                   Azure  Azure is a cloud computing service created by ...   \n",
              "14                   Babel  Babel is a compiler for writing next generatio...   \n",
              "15                    Bash  Bash is a shell and command language interpret...   \n",
              "16                 Bitcoin  Bitcoin is a cryptocurrency developed by Satos...   \n",
              "17               Bootstrap  Bootstrap is an HTML, CSS, and JavaScript fram...   \n",
              "18                     Bot  A bot is an application that runs automated ta...   \n",
              "19                       C  C is a general purpose programming language th...   \n",
              "20                  Chrome  Chrome is a web browser from the tech company ...   \n",
              "21        Chrome extension  Google Chrome Extensions are add-ons that allo...   \n",
              "22  Command line interface  A CLI, or command-line interface, is a console...   \n",
              "23                 Clojure  Clojure is a dynamic, general-purpose programm...   \n",
              "24            Code quality  Automate your code review with style, quality,...   \n",
              "25             Code review  Ensure your code meets quality standards and s...   \n",
              "26                Compiler  Compilers are software that translate higher-l...   \n",
              "27  Continuous integration  Automatically build and test your code as you ...   \n",
              "28                COVID-19  The coronavirus disease 2019 (COVID-19) is an ...   \n",
              "29                     C++  C++ is a general purpose and object-oriented p...   \n",
              "\n",
              "                                                 url  \n",
              "0                       https://github.com/topics/3d  \n",
              "1                     https://github.com/topics/ajax  \n",
              "2                https://github.com/topics/algorithm  \n",
              "3                    https://github.com/topics/amphp  \n",
              "4                  https://github.com/topics/android  \n",
              "5                  https://github.com/topics/angular  \n",
              "6                  https://github.com/topics/ansible  \n",
              "7                      https://github.com/topics/api  \n",
              "8                  https://github.com/topics/arduino  \n",
              "9                   https://github.com/topics/aspnet  \n",
              "10                    https://github.com/topics/atom  \n",
              "11                 https://github.com/topics/awesome  \n",
              "12                     https://github.com/topics/aws  \n",
              "13                   https://github.com/topics/azure  \n",
              "14                   https://github.com/topics/babel  \n",
              "15                    https://github.com/topics/bash  \n",
              "16                 https://github.com/topics/bitcoin  \n",
              "17               https://github.com/topics/bootstrap  \n",
              "18                     https://github.com/topics/bot  \n",
              "19                       https://github.com/topics/c  \n",
              "20                  https://github.com/topics/chrome  \n",
              "21        https://github.com/topics/chrome-extension  \n",
              "22                     https://github.com/topics/cli  \n",
              "23                 https://github.com/topics/clojure  \n",
              "24            https://github.com/topics/code-quality  \n",
              "25             https://github.com/topics/code-review  \n",
              "26                https://github.com/topics/compiler  \n",
              "27  https://github.com/topics/continuous-integration  \n",
              "28                https://github.com/topics/covid-19  \n",
              "29                     https://github.com/topics/cpp  "
            ]
          },
          "execution_count": 48,
          "metadata": {},
          "output_type": "execute_result"
        }
      ],
      "source": [
        "df"
      ]
    },
    {
      "cell_type": "code",
      "execution_count": null,
      "id": "exposed-settlement",
      "metadata": {
        "id": "exposed-settlement"
      },
      "outputs": [],
      "source": [
        "df.to_csv('topics.csv', index=None)"
      ]
    },
    {
      "cell_type": "code",
      "execution_count": null,
      "id": "latter-negotiation",
      "metadata": {
        "id": "latter-negotiation",
        "outputId": "1f8c137d-f1e4-43c1-fffa-4d88a731e4de"
      },
      "outputs": [
        {
          "name": "stdout",
          "output_type": "stream",
          "text": [
            "title,description,url\r\n",
            "3D,3D modeling is the process of virtually developing the surface and structure of a 3D object.,https://github.com/topics/3d\r\n",
            "Ajax,Ajax is a technique for creating interactive web applications.,https://github.com/topics/ajax\r\n",
            "Algorithm,Algorithms are self-contained sequences that carry out a variety of tasks.,https://github.com/topics/algorithm\r\n",
            "Amp,Amp is a non-blocking concurrency framework for PHP.,https://github.com/topics/amphp\r\n",
            "Android,Android is an operating system built by Google designed for mobile devices.,https://github.com/topics/android\r\n",
            "Angular,Angular is an open source web application platform.,https://github.com/topics/angular\r\n",
            "Ansible,Ansible is a simple and powerful automation engine.,https://github.com/topics/ansible\r\n",
            "API,An API (Application Programming Interface) is a collection of protocols and subroutines for building software.,https://github.com/topics/api\r\n",
            "Arduino,Arduino is an open source hardware and software company and maker community.,https://github.com/topics/arduino\r\n"
          ]
        }
      ],
      "source": [
        "!head topics.csv"
      ]
    },
    {
      "cell_type": "markdown",
      "id": "spectacular-baseline",
      "metadata": {
        "id": "spectacular-baseline"
      },
      "source": [
        "Second page"
      ]
    },
    {
      "cell_type": "code",
      "execution_count": null,
      "id": "handed-channels",
      "metadata": {
        "id": "handed-channels"
      },
      "outputs": [],
      "source": [
        "r = requests.get('https://github.com/topics?page=2')"
      ]
    },
    {
      "cell_type": "code",
      "execution_count": null,
      "id": "forward-sympathy",
      "metadata": {
        "id": "forward-sympathy"
      },
      "outputs": [],
      "source": [
        "doc = BeautifulSoup(r.text, 'html.parser')"
      ]
    },
    {
      "cell_type": "code",
      "execution_count": null,
      "id": "public-parking",
      "metadata": {
        "id": "public-parking"
      },
      "outputs": [],
      "source": [
        "p_tags = doc.find_all('p', {'class': 'f3 lh-condensed mb-0 mt-1 Link--primary'})"
      ]
    },
    {
      "cell_type": "code",
      "execution_count": null,
      "id": "interim-silver",
      "metadata": {
        "id": "interim-silver",
        "outputId": "01c7f8e0-ba39-41f5-dc0d-5cb285281362"
      },
      "outputs": [
        {
          "data": {
            "text/plain": [
              "['Cryptocurrency',\n",
              " 'Crystal',\n",
              " 'C#',\n",
              " 'CSS',\n",
              " 'Data structures',\n",
              " 'Data visualization',\n",
              " 'Database',\n",
              " 'Deep learning',\n",
              " 'Dependency management',\n",
              " 'Deployment',\n",
              " 'Django',\n",
              " 'Docker',\n",
              " 'Documentation',\n",
              " '.NET',\n",
              " 'Electron',\n",
              " 'Elixir',\n",
              " 'Emacs',\n",
              " 'Ember',\n",
              " 'Emoji',\n",
              " 'Emulator',\n",
              " 'ES6',\n",
              " 'ESLint',\n",
              " 'Ethereum',\n",
              " 'Express',\n",
              " 'Firebase',\n",
              " 'Firefox',\n",
              " 'Flask',\n",
              " 'Font',\n",
              " 'Framework',\n",
              " 'Front end']"
            ]
          },
          "execution_count": 54,
          "metadata": {},
          "output_type": "execute_result"
        }
      ],
      "source": [
        "titles = []\n",
        "for tags in p_tags:\n",
        "    titles.append(tags.text)\n",
        "titles"
      ]
    },
    {
      "cell_type": "code",
      "execution_count": null,
      "id": "changing-northern",
      "metadata": {
        "id": "changing-northern"
      },
      "outputs": [],
      "source": [
        "p_tags_2 = doc.find_all('p', {'class': 'f5 color-text-secondary mb-0 mt-1'})"
      ]
    },
    {
      "cell_type": "code",
      "execution_count": null,
      "id": "rental-opposition",
      "metadata": {
        "id": "rental-opposition",
        "outputId": "644a6de0-fc0d-439f-92bd-e9a41607c74f"
      },
      "outputs": [
        {
          "data": {
            "text/plain": [
              "['A cryptocurrency is a digital currency that uses cryptography.',\n",
              " 'Crystal is a self-hosted, general purpose programming language.',\n",
              " 'C# (\"C sharp\") is an object-oriented and type-safe programming language.',\n",
              " 'Cascading Style Sheets (CSS) is a language used most often to style and improve upon the appearance of views.',\n",
              " 'Data structures are a way of organizing and storing data.',\n",
              " 'Data visualization is the graphic representation of data and trends.',\n",
              " 'A database is a structured set of data held in a computer, usually a server.',\n",
              " 'Deep Learning is an artificial neural network composed of many layers.',\n",
              " 'Secure and manage your third-party dependencies.',\n",
              " 'Streamline your code deployment so you can focus on your product.',\n",
              " 'Django is a web application framework for Python.',\n",
              " 'Docker is a platform built for developers to build and run applications.',\n",
              " 'Documentation is a set of information that describes a product to its users.',\n",
              " '.NET is a free, cross-platform, open source developer platform.',\n",
              " 'Electron is a framework for building cross-platform desktop applications with web technology.',\n",
              " 'Elixir is a dynamic, functional language designed for building scalable and maintainable applications.',\n",
              " 'Emacs is an extensible, customizable, free text editor and computing environment.',\n",
              " 'Ember is a framework for creating web applications.',\n",
              " 'Emojis are graphic symbols that represent an emotion, object, or concept.',\n",
              " 'An emulator is any hardware or software that allows one computer to behave like another.',\n",
              " 'ECMAScript 6 is the sixth release of the ECMAScript language.',\n",
              " 'The pluggable linting utility for JavaScript and JSX.',\n",
              " 'Ethereum is a distributed public blockchain network.',\n",
              " 'Express is a minimal Node.js framework for web and mobile applications.',\n",
              " 'Firebase is a mobile app development platform that provides data analysis and database web services for developers.',\n",
              " 'Firefox is an open source web browser from Mozilla.',\n",
              " 'Flask is a web framework for Python based on the Werkzeug toolkit.',\n",
              " 'A font is a particular style of typeface for text.',\n",
              " 'A framework is a reusable set of libraries or classes in software.',\n",
              " 'Front end is the programming and layout that people see and interact with.']"
            ]
          },
          "execution_count": 56,
          "metadata": {},
          "output_type": "execute_result"
        }
      ],
      "source": [
        "desc = []\n",
        "for tags in p_tags_2:\n",
        "    desc.append(tags.text.strip())\n",
        "desc"
      ]
    },
    {
      "cell_type": "code",
      "execution_count": null,
      "id": "unnecessary-standing",
      "metadata": {
        "id": "unnecessary-standing"
      },
      "outputs": [],
      "source": [
        "# Topic page link\n",
        "a_tags = doc.find_all('a', {'class': 'd-flex no-underline'})"
      ]
    },
    {
      "cell_type": "code",
      "execution_count": null,
      "id": "incorporate-maintenance",
      "metadata": {
        "id": "incorporate-maintenance",
        "outputId": "17b76ef5-219c-4689-d99f-adde46cbbb91"
      },
      "outputs": [
        {
          "data": {
            "text/plain": [
              "['https://github.com/topics/cryptocurrency',\n",
              " 'https://github.com/topics/crystal',\n",
              " 'https://github.com/topics/csharp',\n",
              " 'https://github.com/topics/css',\n",
              " 'https://github.com/topics/data-structures',\n",
              " 'https://github.com/topics/data-visualization',\n",
              " 'https://github.com/topics/database',\n",
              " 'https://github.com/topics/deep-learning',\n",
              " 'https://github.com/topics/dependency-management',\n",
              " 'https://github.com/topics/deployment',\n",
              " 'https://github.com/topics/django',\n",
              " 'https://github.com/topics/docker',\n",
              " 'https://github.com/topics/documentation',\n",
              " 'https://github.com/topics/dotnet',\n",
              " 'https://github.com/topics/electron',\n",
              " 'https://github.com/topics/elixir',\n",
              " 'https://github.com/topics/emacs',\n",
              " 'https://github.com/topics/ember',\n",
              " 'https://github.com/topics/emoji',\n",
              " 'https://github.com/topics/emulator',\n",
              " 'https://github.com/topics/es6',\n",
              " 'https://github.com/topics/eslint',\n",
              " 'https://github.com/topics/ethereum',\n",
              " 'https://github.com/topics/express',\n",
              " 'https://github.com/topics/firebase',\n",
              " 'https://github.com/topics/firefox',\n",
              " 'https://github.com/topics/flask',\n",
              " 'https://github.com/topics/font',\n",
              " 'https://github.com/topics/framework',\n",
              " 'https://github.com/topics/frontend']"
            ]
          },
          "execution_count": 58,
          "metadata": {},
          "output_type": "execute_result"
        }
      ],
      "source": [
        "urls = []\n",
        "for tags in a_tags:\n",
        "    urls.append('https://github.com' + tags['href'])\n",
        "urls"
      ]
    },
    {
      "cell_type": "code",
      "execution_count": null,
      "id": "important-prison",
      "metadata": {
        "id": "important-prison"
      },
      "outputs": [],
      "source": [
        "data = {\n",
        "    'title': titles,\n",
        "    'description': desc,\n",
        "    'url': urls\n",
        "}"
      ]
    },
    {
      "cell_type": "code",
      "execution_count": null,
      "id": "needed-percentage",
      "metadata": {
        "id": "needed-percentage",
        "outputId": "81796360-b6d2-4df1-b677-b217236659c7"
      },
      "outputs": [
        {
          "data": {
            "text/plain": [
              "{'title': ['Cryptocurrency',\n",
              "  'Crystal',\n",
              "  'C#',\n",
              "  'CSS',\n",
              "  'Data structures',\n",
              "  'Data visualization',\n",
              "  'Database',\n",
              "  'Deep learning',\n",
              "  'Dependency management',\n",
              "  'Deployment',\n",
              "  'Django',\n",
              "  'Docker',\n",
              "  'Documentation',\n",
              "  '.NET',\n",
              "  'Electron',\n",
              "  'Elixir',\n",
              "  'Emacs',\n",
              "  'Ember',\n",
              "  'Emoji',\n",
              "  'Emulator',\n",
              "  'ES6',\n",
              "  'ESLint',\n",
              "  'Ethereum',\n",
              "  'Express',\n",
              "  'Firebase',\n",
              "  'Firefox',\n",
              "  'Flask',\n",
              "  'Font',\n",
              "  'Framework',\n",
              "  'Front end'],\n",
              " 'description': ['A cryptocurrency is a digital currency that uses cryptography.',\n",
              "  'Crystal is a self-hosted, general purpose programming language.',\n",
              "  'C# (\"C sharp\") is an object-oriented and type-safe programming language.',\n",
              "  'Cascading Style Sheets (CSS) is a language used most often to style and improve upon the appearance of views.',\n",
              "  'Data structures are a way of organizing and storing data.',\n",
              "  'Data visualization is the graphic representation of data and trends.',\n",
              "  'A database is a structured set of data held in a computer, usually a server.',\n",
              "  'Deep Learning is an artificial neural network composed of many layers.',\n",
              "  'Secure and manage your third-party dependencies.',\n",
              "  'Streamline your code deployment so you can focus on your product.',\n",
              "  'Django is a web application framework for Python.',\n",
              "  'Docker is a platform built for developers to build and run applications.',\n",
              "  'Documentation is a set of information that describes a product to its users.',\n",
              "  '.NET is a free, cross-platform, open source developer platform.',\n",
              "  'Electron is a framework for building cross-platform desktop applications with web technology.',\n",
              "  'Elixir is a dynamic, functional language designed for building scalable and maintainable applications.',\n",
              "  'Emacs is an extensible, customizable, free text editor and computing environment.',\n",
              "  'Ember is a framework for creating web applications.',\n",
              "  'Emojis are graphic symbols that represent an emotion, object, or concept.',\n",
              "  'An emulator is any hardware or software that allows one computer to behave like another.',\n",
              "  'ECMAScript 6 is the sixth release of the ECMAScript language.',\n",
              "  'The pluggable linting utility for JavaScript and JSX.',\n",
              "  'Ethereum is a distributed public blockchain network.',\n",
              "  'Express is a minimal Node.js framework for web and mobile applications.',\n",
              "  'Firebase is a mobile app development platform that provides data analysis and database web services for developers.',\n",
              "  'Firefox is an open source web browser from Mozilla.',\n",
              "  'Flask is a web framework for Python based on the Werkzeug toolkit.',\n",
              "  'A font is a particular style of typeface for text.',\n",
              "  'A framework is a reusable set of libraries or classes in software.',\n",
              "  'Front end is the programming and layout that people see and interact with.'],\n",
              " 'url': ['https://github.com/topics/cryptocurrency',\n",
              "  'https://github.com/topics/crystal',\n",
              "  'https://github.com/topics/csharp',\n",
              "  'https://github.com/topics/css',\n",
              "  'https://github.com/topics/data-structures',\n",
              "  'https://github.com/topics/data-visualization',\n",
              "  'https://github.com/topics/database',\n",
              "  'https://github.com/topics/deep-learning',\n",
              "  'https://github.com/topics/dependency-management',\n",
              "  'https://github.com/topics/deployment',\n",
              "  'https://github.com/topics/django',\n",
              "  'https://github.com/topics/docker',\n",
              "  'https://github.com/topics/documentation',\n",
              "  'https://github.com/topics/dotnet',\n",
              "  'https://github.com/topics/electron',\n",
              "  'https://github.com/topics/elixir',\n",
              "  'https://github.com/topics/emacs',\n",
              "  'https://github.com/topics/ember',\n",
              "  'https://github.com/topics/emoji',\n",
              "  'https://github.com/topics/emulator',\n",
              "  'https://github.com/topics/es6',\n",
              "  'https://github.com/topics/eslint',\n",
              "  'https://github.com/topics/ethereum',\n",
              "  'https://github.com/topics/express',\n",
              "  'https://github.com/topics/firebase',\n",
              "  'https://github.com/topics/firefox',\n",
              "  'https://github.com/topics/flask',\n",
              "  'https://github.com/topics/font',\n",
              "  'https://github.com/topics/framework',\n",
              "  'https://github.com/topics/frontend']}"
            ]
          },
          "execution_count": 60,
          "metadata": {},
          "output_type": "execute_result"
        }
      ],
      "source": [
        "data"
      ]
    },
    {
      "cell_type": "code",
      "execution_count": null,
      "id": "white-soviet",
      "metadata": {
        "id": "white-soviet"
      },
      "outputs": [],
      "source": []
    }
  ],
  "metadata": {
    "kernelspec": {
      "display_name": "Python 3",
      "language": "python",
      "name": "python3"
    },
    "language_info": {
      "codemirror_mode": {
        "name": "ipython",
        "version": 3
      },
      "file_extension": ".py",
      "mimetype": "text/x-python",
      "name": "python",
      "nbconvert_exporter": "python",
      "pygments_lexer": "ipython3",
      "version": "3.6.13"
    },
    "colab": {
      "provenance": []
    }
  },
  "nbformat": 4,
  "nbformat_minor": 5
}